{
 "cells": [
  {
   "cell_type": "code",
   "execution_count": 1,
   "id": "dc96fe39",
   "metadata": {},
   "outputs": [],
   "source": [
    "# 필요한 모든 라이브러리를 불러옵니다.\n",
    "from sklearn.preprocessing import MinMaxScaler\n",
    "import tensorflow as tf\n",
    "from keras.models import Model\n",
    "from keras.layers import LSTM, Dense, RepeatVector, TimeDistributed, Input\n",
    "from keras.models import Sequential\n",
    "from keras.layers import GRU\n",
    "from tensorflow.keras.optimizers import Adam\n",
    "from tensorflow.keras.layers import Activation\n",
    "from tensorflow.keras.layers import dot\n",
    "from keras.layers import BatchNormalization\n",
    "from keras.layers import concatenate\n",
    "from keras.callbacks import EarlyStopping\n",
    "from sklearn.model_selection import KFold\n",
    "from keras.wrappers.scikit_learn import KerasRegressor\n",
    "from sklearn.model_selection import RandomizedSearchCV\n",
    "import warnings\n",
    "from pykrx import stock\n",
    "import ipywidgets as widgets\n",
    "from ipywidgets import interact, interact_manual\n",
    "import pandas as pd\n",
    "import numpy as np\n",
    "import matplotlib.pyplot as plt"
   ]
  },
  {
   "cell_type": "code",
   "execution_count": 2,
   "id": "b5630e1f",
   "metadata": {},
   "outputs": [],
   "source": [
    "# 경고 메시지를 피하기 위해 warnings method를 사용합니다.\n",
    "warnings.filterwarnings('ignore')"
   ]
  },
  {
   "cell_type": "code",
   "execution_count": 3,
   "id": "21ab2732",
   "metadata": {},
   "outputs": [],
   "source": [
    "# 한국전력공사 데이터를 불러옵니다.\n",
    "Kepco = stock.get_market_ohlcv_by_date(fromdate=\"20110101\", todate=\"20211210\", ticker=\"015760\")"
   ]
  },
  {
   "cell_type": "code",
   "execution_count": 4,
   "id": "abb4ab1e",
   "metadata": {},
   "outputs": [
    {
     "data": {
      "text/html": [
       "<div>\n",
       "<style scoped>\n",
       "    .dataframe tbody tr th:only-of-type {\n",
       "        vertical-align: middle;\n",
       "    }\n",
       "\n",
       "    .dataframe tbody tr th {\n",
       "        vertical-align: top;\n",
       "    }\n",
       "\n",
       "    .dataframe thead th {\n",
       "        text-align: right;\n",
       "    }\n",
       "</style>\n",
       "<table border=\"1\" class=\"dataframe\">\n",
       "  <thead>\n",
       "    <tr style=\"text-align: right;\">\n",
       "      <th></th>\n",
       "      <th>시가</th>\n",
       "      <th>고가</th>\n",
       "      <th>저가</th>\n",
       "      <th>종가</th>\n",
       "      <th>거래량</th>\n",
       "    </tr>\n",
       "    <tr>\n",
       "      <th>날짜</th>\n",
       "      <th></th>\n",
       "      <th></th>\n",
       "      <th></th>\n",
       "      <th></th>\n",
       "      <th></th>\n",
       "    </tr>\n",
       "  </thead>\n",
       "  <tbody>\n",
       "    <tr>\n",
       "      <th>2011-01-03</th>\n",
       "      <td>30400</td>\n",
       "      <td>30450</td>\n",
       "      <td>29800</td>\n",
       "      <td>30050</td>\n",
       "      <td>1261721</td>\n",
       "    </tr>\n",
       "    <tr>\n",
       "      <th>2011-01-04</th>\n",
       "      <td>30050</td>\n",
       "      <td>30050</td>\n",
       "      <td>29700</td>\n",
       "      <td>29900</td>\n",
       "      <td>1718372</td>\n",
       "    </tr>\n",
       "    <tr>\n",
       "      <th>2011-01-05</th>\n",
       "      <td>29800</td>\n",
       "      <td>29850</td>\n",
       "      <td>29200</td>\n",
       "      <td>29250</td>\n",
       "      <td>2324148</td>\n",
       "    </tr>\n",
       "    <tr>\n",
       "      <th>2011-01-06</th>\n",
       "      <td>29350</td>\n",
       "      <td>29650</td>\n",
       "      <td>29050</td>\n",
       "      <td>29050</td>\n",
       "      <td>1930250</td>\n",
       "    </tr>\n",
       "    <tr>\n",
       "      <th>2011-01-07</th>\n",
       "      <td>29000</td>\n",
       "      <td>29050</td>\n",
       "      <td>28650</td>\n",
       "      <td>28950</td>\n",
       "      <td>2077771</td>\n",
       "    </tr>\n",
       "    <tr>\n",
       "      <th>...</th>\n",
       "      <td>...</td>\n",
       "      <td>...</td>\n",
       "      <td>...</td>\n",
       "      <td>...</td>\n",
       "      <td>...</td>\n",
       "    </tr>\n",
       "    <tr>\n",
       "      <th>2021-12-06</th>\n",
       "      <td>21650</td>\n",
       "      <td>21800</td>\n",
       "      <td>21300</td>\n",
       "      <td>21650</td>\n",
       "      <td>967295</td>\n",
       "    </tr>\n",
       "    <tr>\n",
       "      <th>2021-12-07</th>\n",
       "      <td>21700</td>\n",
       "      <td>22000</td>\n",
       "      <td>21600</td>\n",
       "      <td>21900</td>\n",
       "      <td>943397</td>\n",
       "    </tr>\n",
       "    <tr>\n",
       "      <th>2021-12-08</th>\n",
       "      <td>22000</td>\n",
       "      <td>22450</td>\n",
       "      <td>21950</td>\n",
       "      <td>22200</td>\n",
       "      <td>1645576</td>\n",
       "    </tr>\n",
       "    <tr>\n",
       "      <th>2021-12-09</th>\n",
       "      <td>22200</td>\n",
       "      <td>22400</td>\n",
       "      <td>22100</td>\n",
       "      <td>22350</td>\n",
       "      <td>1625508</td>\n",
       "    </tr>\n",
       "    <tr>\n",
       "      <th>2021-12-10</th>\n",
       "      <td>22250</td>\n",
       "      <td>22300</td>\n",
       "      <td>22050</td>\n",
       "      <td>22150</td>\n",
       "      <td>810107</td>\n",
       "    </tr>\n",
       "  </tbody>\n",
       "</table>\n",
       "<p>2697 rows × 5 columns</p>\n",
       "</div>"
      ],
      "text/plain": [
       "               시가     고가     저가     종가      거래량\n",
       "날짜                                             \n",
       "2011-01-03  30400  30450  29800  30050  1261721\n",
       "2011-01-04  30050  30050  29700  29900  1718372\n",
       "2011-01-05  29800  29850  29200  29250  2324148\n",
       "2011-01-06  29350  29650  29050  29050  1930250\n",
       "2011-01-07  29000  29050  28650  28950  2077771\n",
       "...           ...    ...    ...    ...      ...\n",
       "2021-12-06  21650  21800  21300  21650   967295\n",
       "2021-12-07  21700  22000  21600  21900   943397\n",
       "2021-12-08  22000  22450  21950  22200  1645576\n",
       "2021-12-09  22200  22400  22100  22350  1625508\n",
       "2021-12-10  22250  22300  22050  22150   810107\n",
       "\n",
       "[2697 rows x 5 columns]"
      ]
     },
     "execution_count": 4,
     "metadata": {},
     "output_type": "execute_result"
    }
   ],
   "source": [
    "Kepco"
   ]
  },
  {
   "cell_type": "code",
   "execution_count": 5,
   "id": "0a0d4b06",
   "metadata": {},
   "outputs": [
    {
     "data": {
      "text/plain": [
       "시가     0\n",
       "고가     0\n",
       "저가     0\n",
       "종가     0\n",
       "거래량    0\n",
       "dtype: int64"
      ]
     },
     "execution_count": 5,
     "metadata": {},
     "output_type": "execute_result"
    }
   ],
   "source": [
    "# Diagnose whether there are null data \n",
    "Kepco.isnull().sum()"
   ]
  },
  {
   "cell_type": "code",
   "execution_count": 6,
   "id": "a10decc4",
   "metadata": {},
   "outputs": [
    {
     "name": "stdout",
     "output_type": "stream",
     "text": [
      "3994 days, 0:00:00\n",
      "2697\n"
     ]
    }
   ],
   "source": [
    "# 2011-01-03일부터 2021-12-10일까지 3994일이다. 그런데 데이터에는 2697일 밖에 없다.\n",
    "# 주말이 빠졌기 때문이다. 그래서 일주일을 7일이 아닌 5일로 봐야한다.\n",
    "# 그래서 4주도 28일이 아닌 20일로 봐야한다. 즉, 한달을 20일로 볼 수 있다는 의미다.\n",
    "from datetime import datetime\n",
    "time_first=datetime(2011,1,3)\n",
    "time_last = datetime(2021,12,10)\n",
    "print(time_last - time_first)\n",
    "print(Kepco.shape[0])"
   ]
  },
  {
   "cell_type": "code",
   "execution_count": 7,
   "id": "e3379063",
   "metadata": {},
   "outputs": [
    {
     "data": {
      "application/vnd.jupyter.widget-view+json": {
       "model_id": "779ad3a141024a0da80c8324cdb13578",
       "version_major": 2,
       "version_minor": 0
      },
      "text/plain": [
       "interactive(children=(Dropdown(description='col', options=('시가', '고가', '저가', '종가', '거래량'), value='시가'), Output…"
      ]
     },
     "metadata": {},
     "output_type": "display_data"
    },
    {
     "data": {
      "text/plain": [
       "<function __main__.f(col)>"
      ]
     },
     "execution_count": 7,
     "metadata": {},
     "output_type": "execute_result"
    }
   ],
   "source": [
    "# 각 성분별 그래프를 그립니다.\n",
    "# interact 함수를 사용했습니다.\n",
    "def f(col):\n",
    "    col_value=Kepco[col]\n",
    "    plt.plot(col_value)\n",
    "interact(f, col=list(Kepco.columns))"
   ]
  },
  {
   "cell_type": "code",
   "execution_count": 8,
   "id": "6aadbc93",
   "metadata": {},
   "outputs": [],
   "source": [
    "# 다음과 같이 train과 test를 나눈다.\n",
    "train_ratio = 0.7\n",
    "train_len = int(train_ratio * Kepco.shape[0])\n",
    "train_stock = Kepco[:train_len]\n",
    "test_stock = Kepco[train_len:]"
   ]
  },
  {
   "cell_type": "code",
   "execution_count": 9,
   "id": "c9b29415",
   "metadata": {},
   "outputs": [],
   "source": [
    "# 이제 각 열(시가, 고가 등등)별로 MinMaxScaler를 구한다.\n",
    "# 또한 train 데이터에 이 scaler를 적용한다.\n",
    "train = train_stock.copy()\n",
    "scalers = {}\n",
    "for i in train_stock.columns:\n",
    "    scaler = MinMaxScaler(feature_range=(-1,1))\n",
    "    s_s = scaler.fit_transform(train[i].values.reshape(-1,1))\n",
    "    scalers['scaler_'+i]=scaler\n",
    "    train[i] = s_s"
   ]
  },
  {
   "cell_type": "code",
   "execution_count": 10,
   "id": "84c11736",
   "metadata": {},
   "outputs": [
    {
     "data": {
      "text/plain": [
       "{'scaler_시가': MinMaxScaler(feature_range=(-1, 1)),\n",
       " 'scaler_고가': MinMaxScaler(feature_range=(-1, 1)),\n",
       " 'scaler_저가': MinMaxScaler(feature_range=(-1, 1)),\n",
       " 'scaler_종가': MinMaxScaler(feature_range=(-1, 1)),\n",
       " 'scaler_거래량': MinMaxScaler(feature_range=(-1, 1))}"
      ]
     },
     "execution_count": 10,
     "metadata": {},
     "output_type": "execute_result"
    }
   ],
   "source": [
    "#scalers에는 다음과 같이 5종류의 MinMaxScaler가 담겨있다.\n",
    "scalers"
   ]
  },
  {
   "cell_type": "code",
   "execution_count": 11,
   "id": "9c6176d1",
   "metadata": {},
   "outputs": [],
   "source": [
    "# test도 마찬가지다.\n",
    "test = test_stock.copy()\n",
    "for i in train_stock.columns:\n",
    "    scaler = scalers['scaler_'+i]\n",
    "    s_s = scaler.transform(test[i].values.reshape(-1,1))\n",
    "    test[i] = s_s"
   ]
  },
  {
   "cell_type": "code",
   "execution_count": 12,
   "id": "ca21494d",
   "metadata": {},
   "outputs": [],
   "source": [
    "# 다음은 데이터를 시계열 데이터로 만드는 함수이다.\n",
    "# target_col 인자에는 지금은 모든 열을 대상으로 했지만 언제든 변화가 가능하다.\n",
    "def split_series(series, n_past,n_future,target_col=list(range(len(Kepco.columns)))):\n",
    "    X, y = list(), list()\n",
    "    for window_start in range(len(series)):\n",
    "        past_end = window_start + n_past\n",
    "        future_end = past_end + n_future\n",
    "        if future_end > len(series):\n",
    "            break\n",
    "        past, future = series[window_start:past_end,:], series[past_end:future_end,target_col]\n",
    "        X.append(past)\n",
    "        y.append(future)\n",
    "    return np.array(X), np.array(y)\n",
    "            "
   ]
  },
  {
   "cell_type": "markdown",
   "id": "1418b2bd",
   "metadata": {},
   "source": [
    "## LSTM "
   ]
  },
  {
   "cell_type": "code",
   "execution_count": 13,
   "id": "067704c8",
   "metadata": {},
   "outputs": [
    {
     "data": {
      "text/plain": [
       "(1887, 5)"
      ]
     },
     "execution_count": 13,
     "metadata": {},
     "output_type": "execute_result"
    }
   ],
   "source": [
    "train.shape"
   ]
  },
  {
   "cell_type": "code",
   "execution_count": 14,
   "id": "ac17a790",
   "metadata": {},
   "outputs": [
    {
     "data": {
      "image/png": "[encoded data removed]",
      "text/plain": [
       "<Figure size 432x288 with 1 Axes>"
      ]
     },
     "metadata": {
      "needs_background": "light"
     },
     "output_type": "display_data"
    }
   ],
   "source": [
    "# 종가의 pacf를 그려본다. 그렇게 큰 의미는 없어보인다. 그래서 과거 데이터를\n",
    "# 임의로 잡으려 한다.\n",
    "from statsmodels.graphics.tsaplots import plot_pacf\n",
    "plot_pacf(Kepco.iloc[:,3], lags = 20);\n"
   ]
  },
  {
   "cell_type": "code",
   "execution_count": 15,
   "id": "9655092f",
   "metadata": {},
   "outputs": [],
   "source": [
    "# n_feature는 데이터의 열 개수이다.\n",
    "# 저는 한달치 데이터(주말을 제외한 20일)을 사용하려 합니다.\n",
    "n_features = train.shape[1] # 5\n",
    "n_past = 20\n",
    "n_future = 1"
   ]
  },
  {
   "cell_type": "code",
   "execution_count": 16,
   "id": "9dda52bd",
   "metadata": {},
   "outputs": [],
   "source": [
    "# target_col에 '종가' index를 대입하여 \n",
    "X_train, y_train = split_series(train.values,n_past,n_future, target_col=Kepco.columns.get_loc('종가'))"
   ]
  },
  {
   "cell_type": "code",
   "execution_count": 17,
   "id": "40d6d141",
   "metadata": {},
   "outputs": [
    {
     "name": "stdout",
     "output_type": "stream",
     "text": [
      "(1867, 20, 5)\n",
      "(1867, 1)\n"
     ]
    }
   ],
   "source": [
    "# 잘 분해되었는지 한 번 살펴본다.\n",
    "print(X_train.shape); print(y_train.shape)"
   ]
  },
  {
   "cell_type": "code",
   "execution_count": 18,
   "id": "a30e2763",
   "metadata": {},
   "outputs": [],
   "source": [
    "# 여기서 주의할 점! test를 그대로 쓸 것이 아니라 train 데이터의 뒤에서 n_past만큼\n",
    "# 떼서 test와 합쳐야 한다.\n",
    "# 그래야 test의 첫 번째 종가부터 예측을 할 수 있다.\n",
    "test_lstm = pd.concat([train[-n_past:],test])"
   ]
  },
  {
   "cell_type": "code",
   "execution_count": 19,
   "id": "cb027168",
   "metadata": {},
   "outputs": [],
   "source": [
    "# Test 데이터를 만듭니다.\n",
    "X_test, y_test = split_series(test_lstm.values, n_past,n_future, target_col=Kepco.columns.get_loc('종가') )"
   ]
  },
  {
   "cell_type": "code",
   "execution_count": 20,
   "id": "3e36ed87",
   "metadata": {},
   "outputs": [
    {
     "name": "stdout",
     "output_type": "stream",
     "text": [
      "(810, 20, 5)\n",
      "(810, 1)\n"
     ]
    }
   ],
   "source": [
    "print(X_test.shape); print(y_test.shape)"
   ]
  },
  {
   "cell_type": "markdown",
   "id": "ef95e406",
   "metadata": {},
   "source": [
    "## Grid Search on LSTM"
   ]
  },
  {
   "cell_type": "code",
   "execution_count": 21,
   "id": "3586d745",
   "metadata": {},
   "outputs": [],
   "source": [
    "# GridSearch때 사용할 kfold를 만듭니다.\n",
    "kfold= KFold(n_splits=3)"
   ]
  },
  {
   "cell_type": "code",
   "execution_count": 22,
   "id": "53620662",
   "metadata": {},
   "outputs": [],
   "source": [
    "# LSTM의 neurouns를 hyperparameter로 설정한 뒤 다음과 같은 함수를 작성한다.\n",
    "# 이 함수는 뒤에서 RandomizedSearchCV를 사용할 때 대상이 된다.\n",
    "# neuron 갯수의 후보는 아래와 같습니다.\n",
    "def build_model(n_neurons):\n",
    "    model = Sequential()\n",
    "    model.add(LSTM(units=n_neurons, activation='tanh', input_shape=(n_past, n_features)))\n",
    "    model.add(Dense(1, activation='tanh'))\n",
    "    model.compile(loss='mse',optimizer=tf.keras.optimizers.RMSprop(0.001), metrics=['mse'])\n",
    "    return model\n",
    "n_neurons = [10, 20, 30]\n",
    "param_grid = dict(n_neurons=n_neurons)"
   ]
  },
  {
   "cell_type": "code",
   "execution_count": 23,
   "id": "0625d6bb",
   "metadata": {},
   "outputs": [],
   "source": [
    "# KerasRegressor를 장착한 채로 RandomizedSearch CV를 해야합니다.\n",
    "model_candi = KerasRegressor(build_fn = build_model)"
   ]
  },
  {
   "cell_type": "code",
   "execution_count": 24,
   "id": "96ae93e8",
   "metadata": {},
   "outputs": [],
   "source": [
    "grid_lstm = RandomizedSearchCV(estimator=model_candi, cv=kfold, param_distributions=param_grid)"
   ]
  },
  {
   "cell_type": "code",
   "execution_count": null,
   "id": "0836371f",
   "metadata": {},
   "outputs": [
    {
     "name": "stdout",
     "output_type": "stream",
     "text": [
      "20/20 [==============================] - 0s 2ms/step - loss: 0.0048 - mse: 0.0048    \n",
      "20/20 [==============================] - 0s 2ms/step - loss: 0.0019 - mse: 0.0019\n",
      "20/20 [==============================] - 0s 2ms/step - loss: 0.0088 - mse: 0.0088\n",
      "20/20 [==============================] - 0s 2ms/step - loss: 0.0053 - mse: 0.0053\n"
     ]
    }
   ],
   "source": [
    "# GridSearch를 시행합니다.\n",
    "grid_lstm.fit(X_train, y_train, epochs=50, batch_size=20, verbose=0)"
   ]
  },
  {
   "cell_type": "code",
   "execution_count": null,
   "id": "ff91b950",
   "metadata": {},
   "outputs": [],
   "source": [
    "# 가장 좋은 파라미터는 다음과 같습니다. \n",
    "print(grid_lstm.best_params_)"
   ]
  },
  {
   "cell_type": "code",
   "execution_count": null,
   "id": "11b5d1a7",
   "metadata": {},
   "outputs": [],
   "source": [
    "best_lstm =grid_lstm.best_estimator_"
   ]
  },
  {
   "cell_type": "code",
   "execution_count": null,
   "id": "54f32717",
   "metadata": {},
   "outputs": [],
   "source": [
    "# best한 lstm으로 다시 훈련을 합니다. validation loss도 같이 구합니다.\n",
    "# 시간 단축을 위해 모든 epoch를 50으로 했습니다.\n",
    "es = EarlyStopping(monitor='val_loss', mode='min', patience=5)\n",
    "history_lstm = best_lstm.fit(X_train, y_train, epochs=50, batch_size=20, validation_split=0.2, callbacks=[es],\n",
    "                            verbose=0)"
   ]
  },
  {
   "cell_type": "code",
   "execution_count": 577,
   "id": "b30ba2b0",
   "metadata": {},
   "outputs": [],
   "source": [
    "train_mse = history_lstm.history['mse']\n",
    "valid_mse = history_lstm.history['val_mse']"
   ]
  },
  {
   "cell_type": "code",
   "execution_count": 578,
   "id": "38e7bba9",
   "metadata": {},
   "outputs": [
    {
     "data": {
      "text/plain": [
       "<matplotlib.legend.Legend at 0x1b4a5ae8280>"
      ]
     },
     "execution_count": 578,
     "metadata": {},
     "output_type": "execute_result"
    },
    {
     "data": {
      "image/png": "[encoded data removed]",
      "text/plain": [
       "<Figure size 432x288 with 1 Axes>"
      ]
     },
     "metadata": {
      "needs_background": "light"
     },
     "output_type": "display_data"
    }
   ],
   "source": [
    "# train_mse와 validation mse를 아래와 같이 그릴 수 있습니다.\n",
    "plt.plot(train_mse, label='train mse')\n",
    "plt.plot(valid_mse, label='validation mse')\n",
    "plt.ylabel('mse')\n",
    "plt.xlabel('epoch')\n",
    "plt.legend(loc='upper center', bbox_to_anchor=(0.5,-0.15), fancybox=True, shadow=False, ncol=2)"
   ]
  },
  {
   "cell_type": "markdown",
   "id": "a6ec8a81",
   "metadata": {},
   "source": [
    "## 예측 평가 LSTM(MSE, MAPE)"
   ]
  },
  {
   "cell_type": "code",
   "execution_count": 579,
   "id": "94ff04c7",
   "metadata": {},
   "outputs": [],
   "source": [
    "# 예측하고 inverse를 이용해 아래와 같이 구합니다.\n",
    "pred_lstm = best_lstm.predict(X_test).reshape(-1,1)\n",
    "scaler_close = scalers['scaler_종가']\n",
    "pred_lstm = scaler_close.inverse_transform(pred_lstm)\n",
    "y_test = scaler_close.inverse_transform(y_test)"
   ]
  },
  {
   "cell_type": "code",
   "execution_count": 580,
   "id": "306b8172",
   "metadata": {},
   "outputs": [],
   "source": [
    "from sklearn.metrics import mean_squared_error\n",
    "from sklearn.metrics import mean_absolute_percentage_error\n",
    "mse_lstm = mean_squared_error(y_test, pred_lstm)\n",
    "mape_lstm = mean_absolute_percentage_error(y_test, pred_lstm)\n"
   ]
  },
  {
   "cell_type": "code",
   "execution_count": 581,
   "id": "43271213",
   "metadata": {},
   "outputs": [
    {
     "name": "stdout",
     "output_type": "stream",
     "text": [
      "780117.9912565207\n",
      "0.02733720565667474\n"
     ]
    }
   ],
   "source": [
    "# mse와 mape는 다음과 같습니다.\n",
    "print(mse_lstm); print(mape_lstm)"
   ]
  },
  {
   "cell_type": "markdown",
   "id": "4480ab28",
   "metadata": {},
   "source": [
    "## Predict the future 5 days using standard Seq2Seq Model"
   ]
  },
  {
   "cell_type": "code",
   "execution_count": 582,
   "id": "e4b888e2",
   "metadata": {},
   "outputs": [],
   "source": [
    "# LSTM과 달라진 점 중 하나는 n_future가 5라는 것입니다.\n",
    "n_past= 20\n",
    "n_features = train.shape[1]\n",
    "n_future = 5"
   ]
  },
  {
   "cell_type": "code",
   "execution_count": 583,
   "id": "f2d55454",
   "metadata": {},
   "outputs": [],
   "source": [
    "# LSTM때는 '종가'만이 target data였는데 여기선 시가 종가 거래량 등 모든 것을 예측할 것입니다.\n",
    "X_train, y_train = split_series(series=train.values,n_past=n_past, n_future=n_future, target_col=list(range(len(Kepco.columns))))"
   ]
  },
  {
   "cell_type": "code",
   "execution_count": 584,
   "id": "72e22377",
   "metadata": {},
   "outputs": [
    {
     "name": "stdout",
     "output_type": "stream",
     "text": [
      "(1863, 20, 5)\n",
      "(1863, 5, 5)\n"
     ]
    }
   ],
   "source": [
    "print(X_train.shape); print(y_train.shape)"
   ]
  },
  {
   "cell_type": "code",
   "execution_count": 585,
   "id": "dc2c114d",
   "metadata": {},
   "outputs": [],
   "source": [
    "# 여기서도 test 데이터를 만들 때 train 데이터의 뒷부분을 떼서 test와 합칩니다.\n",
    "test_seq2 = pd.concat([train[-n_past:],test])"
   ]
  },
  {
   "cell_type": "code",
   "execution_count": 586,
   "id": "a55b7233",
   "metadata": {},
   "outputs": [
    {
     "data": {
      "text/plain": [
       "(830, 5)"
      ]
     },
     "execution_count": 586,
     "metadata": {},
     "output_type": "execute_result"
    }
   ],
   "source": [
    "test_seq2.shape"
   ]
  },
  {
   "cell_type": "code",
   "execution_count": 587,
   "id": "163ff4cb",
   "metadata": {},
   "outputs": [],
   "source": [
    "X_test, y_test = split_series(series=test_seq2.values,n_past=n_past, n_future=n_future, target_col=list(range(len(Kepco.columns))))"
   ]
  },
  {
   "cell_type": "code",
   "execution_count": 588,
   "id": "e0caf49a",
   "metadata": {},
   "outputs": [
    {
     "name": "stdout",
     "output_type": "stream",
     "text": [
      "(806, 20, 5)\n",
      "(806, 5, 5)\n"
     ]
    }
   ],
   "source": [
    "print(X_test.shape); print(y_test.shape)"
   ]
  },
  {
   "cell_type": "markdown",
   "id": "d96733ba",
   "metadata": {},
   "source": [
    "## Grid Search on Seq2Seq2"
   ]
  },
  {
   "cell_type": "code",
   "execution_count": 589,
   "id": "e23c6e31",
   "metadata": {},
   "outputs": [],
   "source": [
    "# Encoder1Decoder1을 이용할 것입니다.\n",
    "#LSTM때와 마찬가지로 GridSearch를 위해 다음과 같은 함수를 작성합니다. \n",
    "# 여기선 뉴런수가 대상이 아닌 activation function이 대상입니다. \n",
    "def build_e1d1(activation):\n",
    "    input_train = Input(shape=(n_past,n_features))\n",
    "    output_train = Input(shape=(n_future,n_features))\n",
    "    encoder_last_h1, encoder_last_h2, encoder_last_c = LSTM(\n",
    "    100, return_sequences=False, return_state=True, activation=activation)(input_train)\n",
    "    encoder_last_h1 = BatchNormalization(momentum=0.6)(encoder_last_h1)\n",
    "    encoder_last_c = BatchNormalization(momentum=0.6)(encoder_last_c)\n",
    "    decoder = RepeatVector(output_train.shape[1])(encoder_last_h1)\n",
    "    decoder = LSTM(100, activation=activation,return_state=False, return_sequences=True)(\n",
    "    decoder, initial_state=[encoder_last_h1, encoder_last_c])\n",
    "    out = TimeDistributed(Dense(output_train.shape[2]))(decoder)\n",
    "    model = Model(inputs=input_train, outputs=out)\n",
    "    opt = Adam(learning_rate=0.01)\n",
    "    model.compile(loss='mse', optimizer=opt, metrics=['mse'])\n",
    "    return model\n",
    "    \n",
    "    "
   ]
  },
  {
   "cell_type": "code",
   "execution_count": 590,
   "id": "7aadb4e1",
   "metadata": {},
   "outputs": [],
   "source": [
    "# elu와 relu가 후보입니다.\n",
    "activation = ['elu','relu']\n",
    "param_grid = dict(activation=activation)"
   ]
  },
  {
   "cell_type": "code",
   "execution_count": 591,
   "id": "d92c2c22",
   "metadata": {},
   "outputs": [
    {
     "data": {
      "text/plain": [
       "{'activation': ['elu', 'relu']}"
      ]
     },
     "execution_count": 591,
     "metadata": {},
     "output_type": "execute_result"
    }
   ],
   "source": [
    "param_grid"
   ]
  },
  {
   "cell_type": "code",
   "execution_count": 592,
   "id": "d87d479b",
   "metadata": {},
   "outputs": [],
   "source": [
    "model_seq2 = KerasRegressor(build_fn=build_e1d1)\n",
    "grid_seq2 = RandomizedSearchCV(estimator=model_seq2, cv=kfold, param_distributions=param_grid)"
   ]
  },
  {
   "cell_type": "code",
   "execution_count": 593,
   "id": "96476830",
   "metadata": {},
   "outputs": [
    {
     "name": "stdout",
     "output_type": "stream",
     "text": [
      "Epoch 1/50\n",
      "39/39 [==============================] - 2s 13ms/step - loss: 0.2174 - mse: 0.2174\n",
      "Epoch 2/50\n",
      "39/39 [==============================] - 1s 13ms/step - loss: 0.0123 - mse: 0.0123\n",
      "Epoch 3/50\n",
      "39/39 [==============================] - 1s 13ms/step - loss: 0.0113 - mse: 0.0113\n",
      "Epoch 4/50\n",
      "39/39 [==============================] - 1s 13ms/step - loss: 0.0090 - mse: 0.0090\n",
      "Epoch 5/50\n",
      "39/39 [==============================] - 1s 14ms/step - loss: 0.0080 - mse: 0.0080\n",
      "Epoch 6/50\n",
      "39/39 [==============================] - 1s 13ms/step - loss: 0.0077 - mse: 0.0077\n",
      "Epoch 7/50\n",
      "39/39 [==============================] - 1s 14ms/step - loss: 0.0067 - mse: 0.0067\n",
      "Epoch 8/50\n",
      "39/39 [==============================] - 1s 14ms/step - loss: 0.0069 - mse: 0.0069\n",
      "Epoch 9/50\n",
      "39/39 [==============================] - 1s 13ms/step - loss: 0.0075 - mse: 0.0075\n",
      "Epoch 10/50\n",
      "39/39 [==============================] - 1s 14ms/step - loss: 0.0065 - mse: 0.0065\n",
      "Epoch 11/50\n",
      "39/39 [==============================] - 1s 14ms/step - loss: 0.0075 - mse: 0.0075\n",
      "Epoch 12/50\n",
      "39/39 [==============================] - 1s 14ms/step - loss: 0.0059 - mse: 0.0059\n",
      "Epoch 13/50\n",
      "39/39 [==============================] - 1s 13ms/step - loss: 0.0060 - mse: 0.0060\n",
      "Epoch 14/50\n",
      "39/39 [==============================] - 1s 13ms/step - loss: 0.0056 - mse: 0.0056\n",
      "Epoch 15/50\n",
      "39/39 [==============================] - 1s 13ms/step - loss: 0.0057 - mse: 0.0057\n",
      "Epoch 16/50\n",
      "39/39 [==============================] - 1s 13ms/step - loss: 0.0060 - mse: 0.0060\n",
      "Epoch 17/50\n",
      "39/39 [==============================] - 1s 13ms/step - loss: 0.0050 - mse: 0.0050\n",
      "Epoch 18/50\n",
      "39/39 [==============================] - 1s 13ms/step - loss: 0.0051 - mse: 0.0051\n",
      "Epoch 19/50\n",
      "39/39 [==============================] - 1s 13ms/step - loss: 0.0056 - mse: 0.0056\n",
      "Epoch 20/50\n",
      "39/39 [==============================] - 1s 13ms/step - loss: 0.0053 - mse: 0.0053\n",
      "Epoch 21/50\n",
      "39/39 [==============================] - 1s 13ms/step - loss: 0.0053 - mse: 0.0053\n",
      "Epoch 22/50\n",
      "39/39 [==============================] - 1s 13ms/step - loss: 0.0053 - mse: 0.0053\n",
      "Epoch 23/50\n",
      "39/39 [==============================] - 1s 13ms/step - loss: 0.0050 - mse: 0.0050\n",
      "Epoch 24/50\n",
      "39/39 [==============================] - 1s 13ms/step - loss: 0.0048 - mse: 0.0048\n",
      "Epoch 25/50\n",
      "39/39 [==============================] - 1s 14ms/step - loss: 0.0048 - mse: 0.0048\n",
      "Epoch 26/50\n",
      "39/39 [==============================] - 1s 14ms/step - loss: 0.0049 - mse: 0.0049\n",
      "Epoch 27/50\n",
      "39/39 [==============================] - 1s 14ms/step - loss: 0.0047 - mse: 0.0047\n",
      "Epoch 28/50\n",
      "39/39 [==============================] - 1s 14ms/step - loss: 0.0048 - mse: 0.0048\n",
      "Epoch 29/50\n",
      "39/39 [==============================] - 1s 14ms/step - loss: 0.0051 - mse: 0.0051\n",
      "Epoch 30/50\n",
      "39/39 [==============================] - 1s 15ms/step - loss: 0.0052 - mse: 0.0052\n",
      "Epoch 31/50\n",
      "39/39 [==============================] - 1s 15ms/step - loss: 0.0047 - mse: 0.0047\n",
      "Epoch 32/50\n",
      "39/39 [==============================] - 1s 14ms/step - loss: 0.0050 - mse: 0.0050\n",
      "Epoch 33/50\n",
      "39/39 [==============================] - 1s 14ms/step - loss: 0.0045 - mse: 0.0045\n",
      "Epoch 34/50\n",
      "39/39 [==============================] - 1s 14ms/step - loss: 0.0043 - mse: 0.0043\n",
      "Epoch 35/50\n",
      "39/39 [==============================] - 1s 14ms/step - loss: 0.0048 - mse: 0.0048\n",
      "Epoch 36/50\n",
      "39/39 [==============================] - 1s 14ms/step - loss: 0.0052 - mse: 0.0052\n",
      "Epoch 37/50\n",
      "39/39 [==============================] - 1s 15ms/step - loss: 0.0044 - mse: 0.0044\n",
      "Epoch 38/50\n",
      "39/39 [==============================] - 1s 15ms/step - loss: 0.0047 - mse: 0.0047\n",
      "Epoch 39/50\n",
      "39/39 [==============================] - 1s 15ms/step - loss: 0.0044 - mse: 0.0044\n",
      "Epoch 40/50\n",
      "39/39 [==============================] - 1s 15ms/step - loss: 0.0042 - mse: 0.0042\n",
      "Epoch 41/50\n",
      "39/39 [==============================] - 1s 15ms/step - loss: 0.0042 - mse: 0.0042\n",
      "Epoch 42/50\n",
      "39/39 [==============================] - 1s 15ms/step - loss: 0.0047 - mse: 0.0047\n",
      "Epoch 43/50\n",
      "39/39 [==============================] - 1s 15ms/step - loss: 0.0042 - mse: 0.0042\n",
      "Epoch 44/50\n",
      "39/39 [==============================] - 1s 15ms/step - loss: 0.0055 - mse: 0.0055\n",
      "Epoch 45/50\n",
      "39/39 [==============================] - 1s 15ms/step - loss: 0.0054 - mse: 0.0054\n",
      "Epoch 46/50\n",
      "39/39 [==============================] - 1s 18ms/step - loss: 0.0050 - mse: 0.0050\n",
      "Epoch 47/50\n",
      "39/39 [==============================] - 1s 17ms/step - loss: 0.0045 - mse: 0.0045\n",
      "Epoch 48/50\n",
      "39/39 [==============================] - 1s 16ms/step - loss: 0.0049 - mse: 0.0049\n",
      "Epoch 49/50\n",
      "39/39 [==============================] - 1s 16ms/step - loss: 0.0045 - mse: 0.0045\n",
      "Epoch 50/50\n",
      "39/39 [==============================] - 1s 15ms/step - loss: 0.0050 - mse: 0.0050\n",
      "20/20 [==============================] - 0s 6ms/step - loss: 0.0276 - mse: 0.0276\n",
      "Epoch 1/50\n",
      "39/39 [==============================] - 2s 19ms/step - loss: 0.2629 - mse: 0.2629\n",
      "Epoch 2/50\n",
      "39/39 [==============================] - 1s 18ms/step - loss: 0.0228 - mse: 0.0228\n",
      "Epoch 3/50\n",
      "39/39 [==============================] - 1s 19ms/step - loss: 0.0215 - mse: 0.0215\n",
      "Epoch 4/50\n",
      "39/39 [==============================] - 1s 18ms/step - loss: 0.0188 - mse: 0.0188\n",
      "Epoch 5/50\n",
      "39/39 [==============================] - 1s 16ms/step - loss: 0.0194 - mse: 0.0194\n",
      "Epoch 6/50\n",
      "39/39 [==============================] - 1s 17ms/step - loss: 0.0238 - mse: 0.0238\n",
      "Epoch 7/50\n",
      "39/39 [==============================] - 1s 17ms/step - loss: 0.0282 - mse: 0.0282\n",
      "Epoch 8/50\n",
      "39/39 [==============================] - 1s 17ms/step - loss: 0.0237 - mse: 0.0237\n",
      "Epoch 9/50\n",
      "39/39 [==============================] - 1s 16ms/step - loss: 0.0199 - mse: 0.0199\n",
      "Epoch 10/50\n",
      "39/39 [==============================] - 1s 16ms/step - loss: 0.0173 - mse: 0.0173\n",
      "Epoch 11/50\n",
      "39/39 [==============================] - 1s 17ms/step - loss: 0.0165 - mse: 0.0165\n",
      "Epoch 12/50\n",
      "39/39 [==============================] - 1s 16ms/step - loss: 0.0167 - mse: 0.0167\n",
      "Epoch 13/50\n",
      "39/39 [==============================] - 1s 17ms/step - loss: 0.0181 - mse: 0.0181\n",
      "Epoch 14/50\n",
      "39/39 [==============================] - 1s 16ms/step - loss: 0.0173 - mse: 0.0173\n",
      "Epoch 15/50\n",
      "39/39 [==============================] - 1s 16ms/step - loss: 0.0170 - mse: 0.0170\n",
      "Epoch 16/50\n",
      "39/39 [==============================] - 1s 16ms/step - loss: 0.0162 - mse: 0.0162\n",
      "Epoch 17/50\n",
      "39/39 [==============================] - 1s 16ms/step - loss: 0.0169 - mse: 0.0169\n",
      "Epoch 18/50\n",
      "39/39 [==============================] - 1s 16ms/step - loss: 0.0157 - mse: 0.0157\n",
      "Epoch 19/50\n",
      "39/39 [==============================] - 1s 16ms/step - loss: 0.0151 - mse: 0.0151\n",
      "Epoch 20/50\n",
      "39/39 [==============================] - 1s 16ms/step - loss: 0.0148 - mse: 0.0148\n",
      "Epoch 21/50\n",
      "39/39 [==============================] - 1s 16ms/step - loss: 0.0149 - mse: 0.0149\n",
      "Epoch 22/50\n",
      "39/39 [==============================] - 1s 16ms/step - loss: 0.0149 - mse: 0.0149\n",
      "Epoch 23/50\n",
      "39/39 [==============================] - 1s 16ms/step - loss: 0.0163 - mse: 0.0163\n",
      "Epoch 24/50\n",
      "39/39 [==============================] - 1s 16ms/step - loss: 0.0158 - mse: 0.0158\n",
      "Epoch 25/50\n",
      "39/39 [==============================] - 1s 17ms/step - loss: 0.0145 - mse: 0.0145\n",
      "Epoch 26/50\n",
      "39/39 [==============================] - 1s 17ms/step - loss: 0.0162 - mse: 0.0162\n",
      "Epoch 27/50\n",
      "39/39 [==============================] - 1s 16ms/step - loss: 0.0182 - mse: 0.0182\n",
      "Epoch 28/50\n",
      "39/39 [==============================] - 1s 18ms/step - loss: 0.0153 - mse: 0.0153\n",
      "Epoch 29/50\n",
      "39/39 [==============================] - 1s 18ms/step - loss: 0.0145 - mse: 0.0145\n",
      "Epoch 30/50\n",
      "39/39 [==============================] - 1s 17ms/step - loss: 0.0143 - mse: 0.0143\n",
      "Epoch 31/50\n",
      "39/39 [==============================] - 1s 17ms/step - loss: 0.0155 - mse: 0.0155\n",
      "Epoch 32/50\n",
      "39/39 [==============================] - 1s 17ms/step - loss: 0.0164 - mse: 0.0164\n",
      "Epoch 33/50\n",
      "39/39 [==============================] - 1s 17ms/step - loss: 0.0231 - mse: 0.0231\n",
      "Epoch 34/50\n",
      "39/39 [==============================] - 1s 16ms/step - loss: 0.0241 - mse: 0.0241\n",
      "Epoch 35/50\n",
      "39/39 [==============================] - 1s 17ms/step - loss: 0.0200 - mse: 0.0200\n",
      "Epoch 36/50\n",
      "39/39 [==============================] - 1s 17ms/step - loss: 0.0170 - mse: 0.0170\n",
      "Epoch 37/50\n",
      "39/39 [==============================] - 1s 17ms/step - loss: 0.0197 - mse: 0.0197\n",
      "Epoch 38/50\n",
      "39/39 [==============================] - 1s 16ms/step - loss: 0.0168 - mse: 0.0168\n",
      "Epoch 39/50\n",
      "39/39 [==============================] - 1s 17ms/step - loss: 0.0158 - mse: 0.0158\n",
      "Epoch 40/50\n",
      "39/39 [==============================] - 1s 17ms/step - loss: 0.0160 - mse: 0.0160\n",
      "Epoch 41/50\n",
      "39/39 [==============================] - 1s 16ms/step - loss: 0.0199 - mse: 0.0199\n",
      "Epoch 42/50\n",
      "39/39 [==============================] - 1s 16ms/step - loss: 0.0151 - mse: 0.0151\n",
      "Epoch 43/50\n",
      "39/39 [==============================] - 1s 18ms/step - loss: 0.0171 - mse: 0.0171\n",
      "Epoch 44/50\n",
      "39/39 [==============================] - 1s 17ms/step - loss: 0.0187 - mse: 0.0187\n",
      "Epoch 45/50\n",
      "39/39 [==============================] - 1s 17ms/step - loss: 0.0165 - mse: 0.0165\n",
      "Epoch 46/50\n",
      "39/39 [==============================] - 1s 17ms/step - loss: 0.0179 - mse: 0.0179\n",
      "Epoch 47/50\n",
      "39/39 [==============================] - 1s 17ms/step - loss: 0.0150 - mse: 0.0150\n",
      "Epoch 48/50\n",
      "39/39 [==============================] - 1s 17ms/step - loss: 0.0155 - mse: 0.0155\n",
      "Epoch 49/50\n",
      "39/39 [==============================] - 1s 16ms/step - loss: 0.0172 - mse: 0.0172\n",
      "Epoch 50/50\n",
      "39/39 [==============================] - 1s 17ms/step - loss: 0.0172 - mse: 0.0172\n",
      "20/20 [==============================] - 0s 5ms/step - loss: 0.0259 - mse: 0.0259\n",
      "Epoch 1/50\n",
      "39/39 [==============================] - 2s 17ms/step - loss: 0.1905 - mse: 0.1905\n",
      "Epoch 2/50\n",
      "39/39 [==============================] - 1s 17ms/step - loss: 0.0141 - mse: 0.0141\n",
      "Epoch 3/50\n",
      "39/39 [==============================] - 1s 17ms/step - loss: 0.0093 - mse: 0.0093\n",
      "Epoch 4/50\n",
      "39/39 [==============================] - 1s 16ms/step - loss: 0.0085 - mse: 0.0085\n",
      "Epoch 5/50\n",
      "39/39 [==============================] - 1s 17ms/step - loss: 0.0083 - mse: 0.0083\n",
      "Epoch 6/50\n",
      "39/39 [==============================] - 1s 17ms/step - loss: 0.0080 - mse: 0.0080\n",
      "Epoch 7/50\n",
      "39/39 [==============================] - 1s 17ms/step - loss: 0.0073 - mse: 0.0073\n",
      "Epoch 8/50\n",
      "39/39 [==============================] - 1s 17ms/step - loss: 0.0068 - mse: 0.0068\n",
      "Epoch 9/50\n",
      "39/39 [==============================] - 1s 17ms/step - loss: 0.0068 - mse: 0.0068\n",
      "Epoch 10/50\n",
      "39/39 [==============================] - 1s 17ms/step - loss: 0.0069 - mse: 0.0069\n",
      "Epoch 11/50\n",
      "39/39 [==============================] - 1s 17ms/step - loss: 0.0081 - mse: 0.0081\n",
      "Epoch 12/50\n",
      "39/39 [==============================] - 1s 17ms/step - loss: 0.0085 - mse: 0.0085\n",
      "Epoch 13/50\n",
      "39/39 [==============================] - 1s 17ms/step - loss: 0.0090 - mse: 0.0090\n",
      "Epoch 14/50\n",
      "39/39 [==============================] - 1s 17ms/step - loss: 0.0059 - mse: 0.0059\n",
      "Epoch 15/50\n",
      "39/39 [==============================] - 1s 17ms/step - loss: 0.0068 - mse: 0.0068\n",
      "Epoch 16/50\n",
      "39/39 [==============================] - 1s 17ms/step - loss: 0.0072 - mse: 0.0072\n",
      "Epoch 17/50\n",
      "39/39 [==============================] - 1s 17ms/step - loss: 0.0066 - mse: 0.0066\n",
      "Epoch 18/50\n",
      "39/39 [==============================] - 1s 17ms/step - loss: 0.0065 - mse: 0.0065\n",
      "Epoch 19/50\n",
      "39/39 [==============================] - 1s 17ms/step - loss: 0.0060 - mse: 0.0060\n",
      "Epoch 20/50\n",
      "39/39 [==============================] - 1s 17ms/step - loss: 0.0056 - mse: 0.0056\n",
      "Epoch 21/50\n",
      "39/39 [==============================] - 1s 17ms/step - loss: 0.0055 - mse: 0.0055\n",
      "Epoch 22/50\n",
      "39/39 [==============================] - 1s 17ms/step - loss: 0.0058 - mse: 0.0058\n",
      "Epoch 23/50\n",
      "39/39 [==============================] - 1s 18ms/step - loss: 0.0059 - mse: 0.0059\n",
      "Epoch 24/50\n",
      "39/39 [==============================] - 1s 18ms/step - loss: 0.0061 - mse: 0.0061\n",
      "Epoch 25/50\n",
      "39/39 [==============================] - 1s 17ms/step - loss: 0.0060 - mse: 0.0060\n",
      "Epoch 26/50\n",
      "39/39 [==============================] - 1s 17ms/step - loss: 0.0052 - mse: 0.0052\n",
      "Epoch 27/50\n",
      "39/39 [==============================] - 1s 18ms/step - loss: 0.0051 - mse: 0.0051\n",
      "Epoch 28/50\n",
      "39/39 [==============================] - 1s 17ms/step - loss: 0.0050 - mse: 0.0050\n",
      "Epoch 29/50\n",
      "39/39 [==============================] - 1s 18ms/step - loss: 0.0048 - mse: 0.0048\n",
      "Epoch 30/50\n",
      "39/39 [==============================] - 1s 17ms/step - loss: 0.0053 - mse: 0.0053\n",
      "Epoch 31/50\n",
      "39/39 [==============================] - 1s 17ms/step - loss: 0.0061 - mse: 0.0061\n",
      "Epoch 32/50\n",
      "39/39 [==============================] - 1s 17ms/step - loss: 0.0053 - mse: 0.0053\n",
      "Epoch 33/50\n",
      "39/39 [==============================] - 1s 17ms/step - loss: 0.0057 - mse: 0.0057\n",
      "Epoch 34/50\n",
      "39/39 [==============================] - 1s 18ms/step - loss: 0.0053 - mse: 0.0053\n",
      "Epoch 35/50\n",
      "39/39 [==============================] - 1s 17ms/step - loss: 0.0057 - mse: 0.0057\n",
      "Epoch 36/50\n",
      "39/39 [==============================] - 1s 17ms/step - loss: 0.0050 - mse: 0.0050\n",
      "Epoch 37/50\n",
      "39/39 [==============================] - 1s 18ms/step - loss: 0.0053 - mse: 0.0053\n",
      "Epoch 38/50\n",
      "39/39 [==============================] - 1s 18ms/step - loss: 0.0051 - mse: 0.0051\n",
      "Epoch 39/50\n",
      "39/39 [==============================] - 1s 18ms/step - loss: 0.0046 - mse: 0.0046\n",
      "Epoch 40/50\n",
      "39/39 [==============================] - 1s 18ms/step - loss: 0.0054 - mse: 0.0054\n",
      "Epoch 41/50\n",
      "39/39 [==============================] - 1s 18ms/step - loss: 0.0058 - mse: 0.0058\n",
      "Epoch 42/50\n",
      "39/39 [==============================] - 1s 18ms/step - loss: 0.0046 - mse: 0.0046\n",
      "Epoch 43/50\n",
      "39/39 [==============================] - 1s 18ms/step - loss: 0.0046 - mse: 0.0046\n",
      "Epoch 44/50\n",
      "39/39 [==============================] - 1s 17ms/step - loss: 0.0045 - mse: 0.0045\n",
      "Epoch 45/50\n",
      "39/39 [==============================] - 1s 17ms/step - loss: 0.0045 - mse: 0.0045\n",
      "Epoch 46/50\n",
      "39/39 [==============================] - 1s 18ms/step - loss: 0.0045 - mse: 0.0045\n",
      "Epoch 47/50\n",
      "39/39 [==============================] - 1s 19ms/step - loss: 0.0049 - mse: 0.0049\n",
      "Epoch 48/50\n",
      "39/39 [==============================] - 1s 17ms/step - loss: 0.0044 - mse: 0.0044\n",
      "Epoch 49/50\n",
      "39/39 [==============================] - 1s 17ms/step - loss: 0.0051 - mse: 0.0051\n",
      "Epoch 50/50\n",
      "39/39 [==============================] - 1s 17ms/step - loss: 0.0052 - mse: 0.0052\n",
      "20/20 [==============================] - 0s 6ms/step - loss: 0.0466 - mse: 0.0466\n",
      "Epoch 1/50\n",
      "39/39 [==============================] - 2s 15ms/step - loss: 0.1283 - mse: 0.1283\n",
      "Epoch 2/50\n",
      "39/39 [==============================] - 1s 16ms/step - loss: 0.0105 - mse: 0.0105\n",
      "Epoch 3/50\n",
      "39/39 [==============================] - 1s 15ms/step - loss: 0.0112 - mse: 0.0112\n",
      "Epoch 4/50\n",
      "39/39 [==============================] - 1s 16ms/step - loss: 0.0088 - mse: 0.0088\n",
      "Epoch 5/50\n",
      "39/39 [==============================] - 1s 15ms/step - loss: 0.0098 - mse: 0.0098\n",
      "Epoch 6/50\n",
      "39/39 [==============================] - 1s 15ms/step - loss: 0.0067 - mse: 0.0067\n",
      "Epoch 7/50\n",
      "39/39 [==============================] - 1s 15ms/step - loss: 0.0076 - mse: 0.0076\n",
      "Epoch 8/50\n",
      "39/39 [==============================] - 1s 15ms/step - loss: 0.0060 - mse: 0.0060\n",
      "Epoch 9/50\n",
      "39/39 [==============================] - 1s 16ms/step - loss: 0.0063 - mse: 0.0063\n",
      "Epoch 10/50\n",
      "39/39 [==============================] - 1s 15ms/step - loss: 0.0057 - mse: 0.0057\n",
      "Epoch 11/50\n",
      "39/39 [==============================] - 1s 15ms/step - loss: 0.0057 - mse: 0.0057\n",
      "Epoch 12/50\n",
      "39/39 [==============================] - 1s 15ms/step - loss: 0.0046 - mse: 0.0046\n",
      "Epoch 13/50\n",
      "39/39 [==============================] - 1s 15ms/step - loss: 0.0050 - mse: 0.0050\n",
      "Epoch 14/50\n",
      "39/39 [==============================] - 1s 16ms/step - loss: 0.0048 - mse: 0.0048\n",
      "Epoch 15/50\n",
      "39/39 [==============================] - 1s 16ms/step - loss: 0.0048 - mse: 0.0048\n",
      "Epoch 16/50\n",
      "39/39 [==============================] - 1s 17ms/step - loss: 0.0042 - mse: 0.0042\n",
      "Epoch 17/50\n",
      "39/39 [==============================] - 1s 17ms/step - loss: 0.0050 - mse: 0.0050\n",
      "Epoch 18/50\n",
      "39/39 [==============================] - 1s 16ms/step - loss: 0.0052 - mse: 0.0052\n",
      "Epoch 19/50\n",
      "39/39 [==============================] - 1s 18ms/step - loss: 0.0051 - mse: 0.0051\n",
      "Epoch 20/50\n"
     ]
    },
    {
     "name": "stdout",
     "output_type": "stream",
     "text": [
      "39/39 [==============================] - 1s 17ms/step - loss: 0.0045 - mse: 0.0045\n",
      "Epoch 21/50\n",
      "39/39 [==============================] - 1s 15ms/step - loss: 0.0042 - mse: 0.0042\n",
      "Epoch 22/50\n",
      "39/39 [==============================] - 1s 15ms/step - loss: 0.0041 - mse: 0.0041\n",
      "Epoch 23/50\n",
      "39/39 [==============================] - 1s 15ms/step - loss: 0.0042 - mse: 0.0042\n",
      "Epoch 24/50\n",
      "39/39 [==============================] - 1s 16ms/step - loss: 0.0044 - mse: 0.0044\n",
      "Epoch 25/50\n",
      "39/39 [==============================] - 1s 15ms/step - loss: 0.0048 - mse: 0.0048\n",
      "Epoch 26/50\n",
      "39/39 [==============================] - 1s 15ms/step - loss: 0.0052 - mse: 0.0052\n",
      "Epoch 27/50\n",
      "39/39 [==============================] - 1s 17ms/step - loss: 0.0045 - mse: 0.0045\n",
      "Epoch 28/50\n",
      "39/39 [==============================] - 1s 17ms/step - loss: 0.0041 - mse: 0.0041\n",
      "Epoch 29/50\n",
      "39/39 [==============================] - 1s 16ms/step - loss: 0.0043 - mse: 0.0043\n",
      "Epoch 30/50\n",
      "39/39 [==============================] - 1s 16ms/step - loss: 0.0043 - mse: 0.0043\n",
      "Epoch 31/50\n",
      "39/39 [==============================] - 1s 16ms/step - loss: 0.0041 - mse: 0.0041\n",
      "Epoch 32/50\n",
      "39/39 [==============================] - 1s 16ms/step - loss: 0.0038 - mse: 0.0038\n",
      "Epoch 33/50\n",
      "39/39 [==============================] - 1s 15ms/step - loss: 0.0045 - mse: 0.0045\n",
      "Epoch 34/50\n",
      "39/39 [==============================] - 1s 16ms/step - loss: 0.0040 - mse: 0.0040\n",
      "Epoch 35/50\n",
      "39/39 [==============================] - 1s 16ms/step - loss: 0.0040 - mse: 0.0040\n",
      "Epoch 36/50\n",
      "39/39 [==============================] - 1s 17ms/step - loss: 0.0042 - mse: 0.0042\n",
      "Epoch 37/50\n",
      "39/39 [==============================] - 1s 16ms/step - loss: 0.0046 - mse: 0.0046\n",
      "Epoch 38/50\n",
      "39/39 [==============================] - 1s 16ms/step - loss: 0.0040 - mse: 0.0040\n",
      "Epoch 39/50\n",
      "39/39 [==============================] - 1s 15ms/step - loss: 0.0045 - mse: 0.0045\n",
      "Epoch 40/50\n",
      "39/39 [==============================] - 1s 15ms/step - loss: 0.0042 - mse: 0.0042\n",
      "Epoch 41/50\n",
      "39/39 [==============================] - 1s 16ms/step - loss: 0.0038 - mse: 0.0038\n",
      "Epoch 42/50\n",
      "39/39 [==============================] - 1s 16ms/step - loss: 0.0038 - mse: 0.0038\n",
      "Epoch 43/50\n",
      "39/39 [==============================] - 1s 19ms/step - loss: 0.0037 - mse: 0.0037\n",
      "Epoch 44/50\n",
      "39/39 [==============================] - 1s 19ms/step - loss: 0.0039 - mse: 0.0039\n",
      "Epoch 45/50\n",
      "39/39 [==============================] - 1s 22ms/step - loss: 0.0039 - mse: 0.0039\n",
      "Epoch 46/50\n",
      "39/39 [==============================] - 1s 19ms/step - loss: 0.0040 - mse: 0.0040\n",
      "Epoch 47/50\n",
      "39/39 [==============================] - 1s 20ms/step - loss: 0.0040 - mse: 0.0040\n",
      "Epoch 48/50\n",
      "39/39 [==============================] - 1s 19ms/step - loss: 0.0039 - mse: 0.0039\n",
      "Epoch 49/50\n",
      "39/39 [==============================] - 1s 21ms/step - loss: 0.0042 - mse: 0.0042\n",
      "Epoch 50/50\n",
      "39/39 [==============================] - 1s 22ms/step - loss: 0.0042 - mse: 0.0042\n",
      "20/20 [==============================] - 0s 5ms/step - loss: 0.0054 - mse: 0.0054\n",
      "Epoch 1/50\n",
      "39/39 [==============================] - 2s 17ms/step - loss: 0.1390 - mse: 0.1390\n",
      "Epoch 2/50\n",
      "39/39 [==============================] - 1s 20ms/step - loss: 0.0195 - mse: 0.0195\n",
      "Epoch 3/50\n",
      "39/39 [==============================] - 1s 20ms/step - loss: 0.0125 - mse: 0.0125\n",
      "Epoch 4/50\n",
      "39/39 [==============================] - 1s 21ms/step - loss: 0.0111 - mse: 0.0111\n",
      "Epoch 5/50\n",
      "39/39 [==============================] - 1s 20ms/step - loss: 0.0088 - mse: 0.0088\n",
      "Epoch 6/50\n",
      "39/39 [==============================] - 1s 19ms/step - loss: 0.0099 - mse: 0.0099\n",
      "Epoch 7/50\n",
      "39/39 [==============================] - 1s 20ms/step - loss: 0.0076 - mse: 0.0076\n",
      "Epoch 8/50\n",
      "39/39 [==============================] - 1s 20ms/step - loss: 0.0065 - mse: 0.0065\n",
      "Epoch 9/50\n",
      "39/39 [==============================] - 1s 20ms/step - loss: 0.0071 - mse: 0.0071\n",
      "Epoch 10/50\n",
      "39/39 [==============================] - 1s 21ms/step - loss: 0.0080 - mse: 0.0080\n",
      "Epoch 11/50\n",
      "39/39 [==============================] - 1s 19ms/step - loss: 0.0070 - mse: 0.0070\n",
      "Epoch 12/50\n",
      "39/39 [==============================] - 1s 25ms/step - loss: 0.0059 - mse: 0.0059\n",
      "Epoch 13/50\n",
      "39/39 [==============================] - 1s 24ms/step - loss: 0.0056 - mse: 0.0056\n",
      "Epoch 14/50\n",
      "39/39 [==============================] - 1s 24ms/step - loss: 0.0060 - mse: 0.0060\n",
      "Epoch 15/50\n",
      "39/39 [==============================] - 1s 21ms/step - loss: 0.0066 - mse: 0.0066\n",
      "Epoch 16/50\n",
      "39/39 [==============================] - 1s 22ms/step - loss: 0.0048 - mse: 0.0048\n",
      "Epoch 17/50\n",
      "39/39 [==============================] - 1s 23ms/step - loss: 0.0052 - mse: 0.0052\n",
      "Epoch 18/50\n",
      "39/39 [==============================] - 1s 20ms/step - loss: 0.0047 - mse: 0.0047\n",
      "Epoch 19/50\n",
      "39/39 [==============================] - 1s 21ms/step - loss: 0.0045 - mse: 0.0045\n",
      "Epoch 20/50\n",
      "39/39 [==============================] - 1s 23ms/step - loss: 0.0050 - mse: 0.0050\n",
      "Epoch 21/50\n",
      "39/39 [==============================] - 1s 21ms/step - loss: 0.0052 - mse: 0.0052\n",
      "Epoch 22/50\n",
      "39/39 [==============================] - 1s 20ms/step - loss: 0.0052 - mse: 0.0052\n",
      "Epoch 23/50\n",
      "39/39 [==============================] - 1s 22ms/step - loss: 0.0055 - mse: 0.0055\n",
      "Epoch 24/50\n",
      "39/39 [==============================] - 1s 21ms/step - loss: 0.0048 - mse: 0.0048\n",
      "Epoch 25/50\n",
      "39/39 [==============================] - 1s 23ms/step - loss: 0.0050 - mse: 0.0050\n",
      "Epoch 26/50\n",
      "39/39 [==============================] - 1s 21ms/step - loss: 0.0049 - mse: 0.0049\n",
      "Epoch 27/50\n",
      "39/39 [==============================] - 1s 22ms/step - loss: 0.0041 - mse: 0.0041\n",
      "Epoch 28/50\n",
      "39/39 [==============================] - 1s 21ms/step - loss: 0.0045 - mse: 0.0045\n",
      "Epoch 29/50\n",
      "39/39 [==============================] - 1s 23ms/step - loss: 0.0046 - mse: 0.0046\n",
      "Epoch 30/50\n",
      "39/39 [==============================] - 1s 24ms/step - loss: 0.0047 - mse: 0.0047\n",
      "Epoch 31/50\n",
      "39/39 [==============================] - 1s 28ms/step - loss: 0.0047 - mse: 0.0047\n",
      "Epoch 32/50\n",
      "39/39 [==============================] - 1s 25ms/step - loss: 0.0050 - mse: 0.0050\n",
      "Epoch 33/50\n",
      "39/39 [==============================] - 1s 23ms/step - loss: 0.0048 - mse: 0.0048\n",
      "Epoch 34/50\n",
      "39/39 [==============================] - 1s 22ms/step - loss: 0.0051 - mse: 0.0051\n",
      "Epoch 35/50\n",
      "39/39 [==============================] - 1s 22ms/step - loss: 0.0049 - mse: 0.0049\n",
      "Epoch 36/50\n",
      "39/39 [==============================] - 1s 22ms/step - loss: 0.0046 - mse: 0.0046\n",
      "Epoch 37/50\n",
      "39/39 [==============================] - 1s 24ms/step - loss: 0.0042 - mse: 0.0042\n",
      "Epoch 38/50\n",
      "39/39 [==============================] - 1s 24ms/step - loss: 0.0049 - mse: 0.0049\n",
      "Epoch 39/50\n",
      "39/39 [==============================] - 1s 21ms/step - loss: 0.0043 - mse: 0.0043\n",
      "Epoch 40/50\n",
      "39/39 [==============================] - 1s 26ms/step - loss: 0.0042 - mse: 0.0042\n",
      "Epoch 41/50\n",
      "39/39 [==============================] - 1s 24ms/step - loss: 0.0049 - mse: 0.0049\n",
      "Epoch 42/50\n",
      "39/39 [==============================] - 1s 25ms/step - loss: 0.0047 - mse: 0.0047\n",
      "Epoch 43/50\n",
      "39/39 [==============================] - 1s 24ms/step - loss: 0.0045 - mse: 0.0045\n",
      "Epoch 44/50\n",
      "39/39 [==============================] - 1s 23ms/step - loss: 0.0043 - mse: 0.0043\n",
      "Epoch 45/50\n",
      "39/39 [==============================] - 1s 23ms/step - loss: 0.0038 - mse: 0.0038\n",
      "Epoch 46/50\n",
      "39/39 [==============================] - 1s 25ms/step - loss: 0.0038 - mse: 0.0038\n",
      "Epoch 47/50\n",
      "39/39 [==============================] - 1s 25ms/step - loss: 0.0044 - mse: 0.0044\n",
      "Epoch 48/50\n",
      "39/39 [==============================] - 1s 25ms/step - loss: 0.0040 - mse: 0.0040\n",
      "Epoch 49/50\n",
      "39/39 [==============================] - 1s 28ms/step - loss: 0.0042 - mse: 0.0042\n",
      "Epoch 50/50\n",
      "39/39 [==============================] - 1s 26ms/step - loss: 0.0042 - mse: 0.0042\n",
      "20/20 [==============================] - 1s 5ms/step - loss: 0.0049 - mse: 0.0049\n",
      "Epoch 1/50\n",
      "39/39 [==============================] - 3s 22ms/step - loss: 0.1108 - mse: 0.1108\n",
      "Epoch 2/50\n",
      "39/39 [==============================] - 1s 28ms/step - loss: 0.0138 - mse: 0.0138\n",
      "Epoch 3/50\n",
      "39/39 [==============================] - 1s 31ms/step - loss: 0.0092 - mse: 0.0092\n",
      "Epoch 4/50\n",
      "39/39 [==============================] - 1s 31ms/step - loss: 0.0090 - mse: 0.0090\n",
      "Epoch 5/50\n",
      "39/39 [==============================] - 1s 34ms/step - loss: 0.0068 - mse: 0.0068\n",
      "Epoch 6/50\n",
      "39/39 [==============================] - 1s 32ms/step - loss: 0.0074 - mse: 0.0074\n",
      "Epoch 7/50\n",
      "39/39 [==============================] - 1s 32ms/step - loss: 0.0062 - mse: 0.0062\n",
      "Epoch 8/50\n",
      "39/39 [==============================] - 1s 29ms/step - loss: 0.0053 - mse: 0.0053\n",
      "Epoch 9/50\n",
      "39/39 [==============================] - 1s 31ms/step - loss: 0.0055 - mse: 0.0055\n",
      "Epoch 10/50\n",
      "39/39 [==============================] - 1s 34ms/step - loss: 0.0063 - mse: 0.0063\n",
      "Epoch 11/50\n",
      "39/39 [==============================] - 1s 28ms/step - loss: 0.0059 - mse: 0.0059\n",
      "Epoch 12/50\n",
      "39/39 [==============================] - 1s 28ms/step - loss: 0.0049 - mse: 0.0049\n",
      "Epoch 13/50\n",
      "39/39 [==============================] - 1s 30ms/step - loss: 0.0057 - mse: 0.0057\n",
      "Epoch 14/50\n",
      "39/39 [==============================] - 1s 28ms/step - loss: 0.0060 - mse: 0.0060\n",
      "Epoch 15/50\n",
      "39/39 [==============================] - 1s 27ms/step - loss: 0.0057 - mse: 0.0057\n",
      "Epoch 16/50\n",
      "39/39 [==============================] - 1s 27ms/step - loss: 0.0058 - mse: 0.0058\n",
      "Epoch 17/50\n",
      "39/39 [==============================] - 1s 28ms/step - loss: 0.0048 - mse: 0.0048\n",
      "Epoch 18/50\n",
      "39/39 [==============================] - 1s 29ms/step - loss: 0.0054 - mse: 0.0054\n",
      "Epoch 19/50\n",
      "39/39 [==============================] - 1s 27ms/step - loss: 0.0055 - mse: 0.0055\n",
      "Epoch 20/50\n",
      "39/39 [==============================] - 1s 29ms/step - loss: 0.0050 - mse: 0.0050\n",
      "Epoch 21/50\n",
      "39/39 [==============================] - 1s 30ms/step - loss: 0.0052 - mse: 0.0052\n",
      "Epoch 22/50\n",
      "39/39 [==============================] - 1s 32ms/step - loss: 0.0047 - mse: 0.0047\n",
      "Epoch 23/50\n",
      "39/39 [==============================] - 1s 33ms/step - loss: 0.0050 - mse: 0.0050\n",
      "Epoch 24/50\n",
      "39/39 [==============================] - 1s 33ms/step - loss: 0.0049 - mse: 0.0049\n",
      "Epoch 25/50\n",
      "39/39 [==============================] - 1s 31ms/step - loss: 0.0046 - mse: 0.0046\n",
      "Epoch 26/50\n",
      "39/39 [==============================] - 1s 30ms/step - loss: 0.0057 - mse: 0.0057\n",
      "Epoch 27/50\n",
      "39/39 [==============================] - 1s 28ms/step - loss: 0.0051 - mse: 0.0051\n",
      "Epoch 28/50\n",
      "39/39 [==============================] - 1s 28ms/step - loss: 0.0048 - mse: 0.0048\n",
      "Epoch 29/50\n",
      "39/39 [==============================] - 1s 29ms/step - loss: 0.0055 - mse: 0.0055\n",
      "Epoch 30/50\n",
      "39/39 [==============================] - 1s 31ms/step - loss: 0.0053 - mse: 0.0053\n",
      "Epoch 31/50\n",
      "39/39 [==============================] - 1s 29ms/step - loss: 0.0047 - mse: 0.0047\n",
      "Epoch 32/50\n",
      "39/39 [==============================] - 1s 29ms/step - loss: 0.0052 - mse: 0.0052\n",
      "Epoch 33/50\n",
      "39/39 [==============================] - 1s 29ms/step - loss: 0.0050 - mse: 0.0050\n",
      "Epoch 34/50\n",
      "39/39 [==============================] - 1s 27ms/step - loss: 0.0052 - mse: 0.0052\n",
      "Epoch 35/50\n",
      "39/39 [==============================] - 1s 27ms/step - loss: 0.0049 - mse: 0.0049\n",
      "Epoch 36/50\n",
      "39/39 [==============================] - 1s 26ms/step - loss: 0.0044 - mse: 0.0044\n",
      "Epoch 37/50\n",
      "39/39 [==============================] - 1s 26ms/step - loss: 0.0045 - mse: 0.0045\n",
      "Epoch 38/50\n",
      "39/39 [==============================] - 1s 28ms/step - loss: 0.0045 - mse: 0.0045\n",
      "Epoch 39/50\n",
      "39/39 [==============================] - 1s 29ms/step - loss: 0.0047 - mse: 0.0047\n",
      "Epoch 40/50\n",
      "39/39 [==============================] - 1s 24ms/step - loss: 0.0051 - mse: 0.0051\n",
      "Epoch 41/50\n",
      "39/39 [==============================] - 1s 27ms/step - loss: 0.0046 - mse: 0.0046\n",
      "Epoch 42/50\n",
      "39/39 [==============================] - 1s 26ms/step - loss: 0.0044 - mse: 0.0044\n",
      "Epoch 43/50\n",
      "39/39 [==============================] - 1s 25ms/step - loss: 0.0051 - mse: 0.0051\n",
      "Epoch 44/50\n",
      "39/39 [==============================] - 1s 24ms/step - loss: 0.0046 - mse: 0.0046\n",
      "Epoch 45/50\n",
      "39/39 [==============================] - 1s 26ms/step - loss: 0.0044 - mse: 0.0044\n",
      "Epoch 46/50\n",
      "39/39 [==============================] - 1s 28ms/step - loss: 0.0053 - mse: 0.0053\n",
      "Epoch 47/50\n",
      "39/39 [==============================] - 1s 26ms/step - loss: 0.0051 - mse: 0.0051\n",
      "Epoch 48/50\n",
      "39/39 [==============================] - 1s 26ms/step - loss: 0.0045 - mse: 0.0045\n",
      "Epoch 49/50\n",
      "39/39 [==============================] - 1s 28ms/step - loss: 0.0044 - mse: 0.0044\n",
      "Epoch 50/50\n",
      "39/39 [==============================] - 1s 28ms/step - loss: 0.0046 - mse: 0.0046\n",
      "20/20 [==============================] - 0s 7ms/step - loss: 0.0074 - mse: 0.0074\n",
      "Epoch 1/50\n",
      "59/59 [==============================] - 3s 23ms/step - loss: 0.1960 - mse: 0.1960\n",
      "Epoch 2/50\n",
      "59/59 [==============================] - 2s 26ms/step - loss: 0.0169 - mse: 0.0169\n",
      "Epoch 3/50\n",
      "59/59 [==============================] - 2s 28ms/step - loss: 0.0169 - mse: 0.0169\n",
      "Epoch 4/50\n",
      "59/59 [==============================] - 2s 27ms/step - loss: 0.0148 - mse: 0.0148\n",
      "Epoch 5/50\n",
      "59/59 [==============================] - 2s 27ms/step - loss: 0.0131 - mse: 0.0131\n",
      "Epoch 6/50\n",
      "59/59 [==============================] - 1s 25ms/step - loss: 0.0118 - mse: 0.0118\n",
      "Epoch 7/50\n",
      "59/59 [==============================] - 1s 25ms/step - loss: 0.0116 - mse: 0.0116\n",
      "Epoch 8/50\n",
      "59/59 [==============================] - 2s 27ms/step - loss: 0.0117 - mse: 0.0117\n",
      "Epoch 9/50\n",
      "59/59 [==============================] - 2s 27ms/step - loss: 0.0118 - mse: 0.0118\n",
      "Epoch 10/50\n",
      "59/59 [==============================] - 1s 24ms/step - loss: 0.0114 - mse: 0.0114\n",
      "Epoch 11/50\n",
      "59/59 [==============================] - 2s 29ms/step - loss: 0.0102 - mse: 0.0102\n",
      "Epoch 12/50\n",
      "59/59 [==============================] - 2s 29ms/step - loss: 0.0095 - mse: 0.0095\n",
      "Epoch 13/50\n",
      "59/59 [==============================] - 1s 25ms/step - loss: 0.0079 - mse: 0.0079: 0s - loss: 0.0082 - m\n",
      "Epoch 14/50\n",
      "59/59 [==============================] - 2s 26ms/step - loss: 0.0066 - mse: 0.0066\n",
      "Epoch 15/50\n",
      "59/59 [==============================] - 1s 24ms/step - loss: 0.0076 - mse: 0.0076\n",
      "Epoch 16/50\n",
      "59/59 [==============================] - 1s 25ms/step - loss: 0.0075 - mse: 0.0075\n",
      "Epoch 17/50\n",
      "59/59 [==============================] - 2s 26ms/step - loss: 0.0074 - mse: 0.0074\n",
      "Epoch 18/50\n",
      "59/59 [==============================] - 2s 27ms/step - loss: 0.0071 - mse: 0.0071\n",
      "Epoch 19/50\n",
      "59/59 [==============================] - 1s 25ms/step - loss: 0.0092 - mse: 0.0092\n",
      "Epoch 20/50\n",
      "59/59 [==============================] - 1s 23ms/step - loss: 0.0083 - mse: 0.0083\n",
      "Epoch 21/50\n",
      "59/59 [==============================] - 1s 22ms/step - loss: 0.0070 - mse: 0.0070\n",
      "Epoch 22/50\n",
      "59/59 [==============================] - 2s 26ms/step - loss: 0.0072 - mse: 0.0072\n",
      "Epoch 23/50\n",
      "59/59 [==============================] - 1s 23ms/step - loss: 0.0060 - mse: 0.0060\n",
      "Epoch 24/50\n",
      "59/59 [==============================] - 1s 22ms/step - loss: 0.0060 - mse: 0.0060\n",
      "Epoch 25/50\n",
      "59/59 [==============================] - 1s 21ms/step - loss: 0.0049 - mse: 0.0049\n",
      "Epoch 26/50\n",
      "59/59 [==============================] - 1s 21ms/step - loss: 0.0047 - mse: 0.0047\n",
      "Epoch 27/50\n",
      "59/59 [==============================] - 1s 22ms/step - loss: 0.0047 - mse: 0.0047\n",
      "Epoch 28/50\n",
      "59/59 [==============================] - 1s 20ms/step - loss: 0.0046 - mse: 0.0046\n",
      "Epoch 29/50\n",
      "59/59 [==============================] - 1s 21ms/step - loss: 0.0046 - mse: 0.0046\n",
      "Epoch 30/50\n",
      "59/59 [==============================] - 1s 20ms/step - loss: 0.0049 - mse: 0.0049\n",
      "Epoch 31/50\n",
      "59/59 [==============================] - 1s 21ms/step - loss: 0.0050 - mse: 0.0050\n",
      "Epoch 32/50\n",
      "59/59 [==============================] - 1s 22ms/step - loss: 0.0048 - mse: 0.0048\n",
      "Epoch 33/50\n",
      "59/59 [==============================] - 1s 22ms/step - loss: 0.0046 - mse: 0.0046\n",
      "Epoch 34/50\n",
      "59/59 [==============================] - 1s 22ms/step - loss: 0.0048 - mse: 0.0048\n",
      "Epoch 35/50\n",
      "59/59 [==============================] - 1s 21ms/step - loss: 0.0044 - mse: 0.0044\n",
      "Epoch 36/50\n",
      "59/59 [==============================] - 1s 22ms/step - loss: 0.0050 - mse: 0.0050\n",
      "Epoch 37/50\n",
      "59/59 [==============================] - 1s 20ms/step - loss: 0.0043 - mse: 0.0043\n",
      "Epoch 38/50\n",
      "59/59 [==============================] - 1s 22ms/step - loss: 0.0043 - mse: 0.0043\n",
      "Epoch 39/50\n"
     ]
    },
    {
     "name": "stdout",
     "output_type": "stream",
     "text": [
      "59/59 [==============================] - 1s 23ms/step - loss: 0.0043 - mse: 0.0043\n",
      "Epoch 40/50\n",
      "59/59 [==============================] - 1s 21ms/step - loss: 0.0046 - mse: 0.0046\n",
      "Epoch 41/50\n",
      "59/59 [==============================] - 1s 23ms/step - loss: 0.0040 - mse: 0.0040\n",
      "Epoch 42/50\n",
      "59/59 [==============================] - 1s 22ms/step - loss: 0.0040 - mse: 0.0040\n",
      "Epoch 43/50\n",
      "59/59 [==============================] - 1s 23ms/step - loss: 0.0043 - mse: 0.0043\n",
      "Epoch 44/50\n",
      "59/59 [==============================] - 1s 22ms/step - loss: 0.0042 - mse: 0.0042\n",
      "Epoch 45/50\n",
      "59/59 [==============================] - 1s 22ms/step - loss: 0.0045 - mse: 0.0045\n",
      "Epoch 46/50\n",
      "59/59 [==============================] - 1s 25ms/step - loss: 0.0049 - mse: 0.0049\n",
      "Epoch 47/50\n",
      "59/59 [==============================] - 1s 25ms/step - loss: 0.0051 - mse: 0.0051\n",
      "Epoch 48/50\n",
      "59/59 [==============================] - 1s 24ms/step - loss: 0.0042 - mse: 0.0042\n",
      "Epoch 49/50\n",
      "59/59 [==============================] - 1s 25ms/step - loss: 0.0040 - mse: 0.0040\n",
      "Epoch 50/50\n",
      "59/59 [==============================] - 1s 24ms/step - loss: 0.0044 - mse: 0.0044\n"
     ]
    },
    {
     "data": {
      "text/plain": [
       "RandomizedSearchCV(cv=KFold(n_splits=3, random_state=None, shuffle=False),\n",
       "                   estimator=<keras.wrappers.scikit_learn.KerasRegressor object at 0x000001B49D698880>,\n",
       "                   param_distributions={'activation': ['elu', 'relu']})"
      ]
     },
     "execution_count": 593,
     "metadata": {},
     "output_type": "execute_result"
    }
   ],
   "source": [
    "grid_seq2.fit(X_train, y_train, epochs=50)"
   ]
  },
  {
   "cell_type": "code",
   "execution_count": 594,
   "id": "415068aa",
   "metadata": {},
   "outputs": [
    {
     "data": {
      "text/plain": [
       "{'activation': 'relu'}"
      ]
     },
     "execution_count": 594,
     "metadata": {},
     "output_type": "execute_result"
    }
   ],
   "source": [
    "#'relu'가 최적이라고 나옵니다.\n",
    "grid_seq2.best_params_"
   ]
  },
  {
   "cell_type": "code",
   "execution_count": 596,
   "id": "c4fdeef8",
   "metadata": {},
   "outputs": [
    {
     "name": "stdout",
     "output_type": "stream",
     "text": [
      "Epoch 1/50\n",
      "47/47 [==============================] - 2s 19ms/step - loss: 0.1263 - mse: 0.1263 - val_loss: 0.0249 - val_mse: 0.0249\n",
      "Epoch 2/50\n",
      "47/47 [==============================] - 1s 14ms/step - loss: 0.0199 - mse: 0.0199 - val_loss: 66230.5547 - val_mse: 66230.5625\n",
      "Epoch 3/50\n",
      "47/47 [==============================] - 1s 15ms/step - loss: 0.0166 - mse: 0.0166 - val_loss: 0.0231 - val_mse: 0.0231\n",
      "Epoch 4/50\n",
      "47/47 [==============================] - 1s 15ms/step - loss: 0.0148 - mse: 0.0148 - val_loss: 0.0135 - val_mse: 0.0135\n",
      "Epoch 5/50\n",
      "47/47 [==============================] - 1s 15ms/step - loss: 0.0138 - mse: 0.0138 - val_loss: 0.0107 - val_mse: 0.0107\n",
      "Epoch 6/50\n",
      "47/47 [==============================] - 1s 15ms/step - loss: 0.0146 - mse: 0.0146 - val_loss: 0.0104 - val_mse: 0.0104\n",
      "Epoch 7/50\n",
      "47/47 [==============================] - 1s 15ms/step - loss: 0.0205 - mse: 0.0205 - val_loss: 0.0120 - val_mse: 0.0120\n",
      "Epoch 8/50\n",
      "47/47 [==============================] - 1s 15ms/step - loss: 0.0177 - mse: 0.0177 - val_loss: 0.0092 - val_mse: 0.0092\n",
      "Epoch 9/50\n",
      "47/47 [==============================] - 1s 15ms/step - loss: 0.0176 - mse: 0.0176 - val_loss: 0.0067 - val_mse: 0.0067\n",
      "Epoch 10/50\n",
      "47/47 [==============================] - 1s 14ms/step - loss: 0.0123 - mse: 0.0123 - val_loss: 0.0089 - val_mse: 0.0089\n",
      "Epoch 11/50\n",
      "47/47 [==============================] - 1s 14ms/step - loss: 0.0126 - mse: 0.0126 - val_loss: 0.0069 - val_mse: 0.0069\n",
      "Epoch 12/50\n",
      "47/47 [==============================] - 1s 15ms/step - loss: 0.0121 - mse: 0.0121 - val_loss: 0.0083 - val_mse: 0.0083\n",
      "Epoch 13/50\n",
      "47/47 [==============================] - 1s 15ms/step - loss: 0.0117 - mse: 0.0117 - val_loss: 0.0089 - val_mse: 0.0089\n",
      "Epoch 14/50\n",
      "47/47 [==============================] - 1s 15ms/step - loss: 0.0122 - mse: 0.0122 - val_loss: 0.0056 - val_mse: 0.0056\n",
      "Epoch 15/50\n",
      "47/47 [==============================] - 1s 15ms/step - loss: 0.0118 - mse: 0.0118 - val_loss: 0.0045 - val_mse: 0.0045\n",
      "Epoch 16/50\n",
      "47/47 [==============================] - 1s 15ms/step - loss: 0.0097 - mse: 0.0097 - val_loss: 0.0043 - val_mse: 0.0043\n",
      "Epoch 17/50\n",
      "47/47 [==============================] - 1s 15ms/step - loss: 0.0089 - mse: 0.0089 - val_loss: 0.0031 - val_mse: 0.0031\n",
      "Epoch 18/50\n",
      "47/47 [==============================] - 1s 15ms/step - loss: 0.0076 - mse: 0.0076 - val_loss: 0.0041 - val_mse: 0.0041\n",
      "Epoch 19/50\n",
      "47/47 [==============================] - 1s 15ms/step - loss: 0.0069 - mse: 0.0069 - val_loss: 0.0048 - val_mse: 0.0048\n",
      "Epoch 20/50\n",
      "47/47 [==============================] - 1s 15ms/step - loss: 0.0065 - mse: 0.0065 - val_loss: 0.0036 - val_mse: 0.0036\n",
      "Epoch 21/50\n",
      "47/47 [==============================] - 1s 15ms/step - loss: 0.0067 - mse: 0.0067 - val_loss: 0.0032 - val_mse: 0.0032\n",
      "Epoch 22/50\n",
      "47/47 [==============================] - 1s 16ms/step - loss: 0.0066 - mse: 0.0066 - val_loss: 0.0034 - val_mse: 0.0034\n",
      "Epoch 23/50\n",
      "47/47 [==============================] - 1s 15ms/step - loss: 0.0068 - mse: 0.0068 - val_loss: 0.0030 - val_mse: 0.0030\n",
      "Epoch 24/50\n",
      "47/47 [==============================] - 1s 16ms/step - loss: 0.0069 - mse: 0.0069 - val_loss: 0.0032 - val_mse: 0.0032\n",
      "Epoch 25/50\n",
      "47/47 [==============================] - 1s 16ms/step - loss: 0.0054 - mse: 0.0054 - val_loss: 0.0036 - val_mse: 0.0036\n",
      "Epoch 26/50\n",
      "47/47 [==============================] - 1s 16ms/step - loss: 0.0057 - mse: 0.0057 - val_loss: 0.0030 - val_mse: 0.0030\n",
      "Epoch 27/50\n",
      "47/47 [==============================] - 1s 17ms/step - loss: 0.0051 - mse: 0.0051 - val_loss: 0.0031 - val_mse: 0.0031\n",
      "Epoch 28/50\n",
      "47/47 [==============================] - 1s 17ms/step - loss: 0.0051 - mse: 0.0051 - val_loss: 0.0028 - val_mse: 0.0028\n",
      "Epoch 29/50\n",
      "47/47 [==============================] - 1s 16ms/step - loss: 0.0061 - mse: 0.0061 - val_loss: 0.0028 - val_mse: 0.0028\n",
      "Epoch 30/50\n",
      "47/47 [==============================] - 1s 17ms/step - loss: 0.0054 - mse: 0.0054 - val_loss: 0.0038 - val_mse: 0.0038\n",
      "Epoch 31/50\n",
      "47/47 [==============================] - 1s 18ms/step - loss: 0.0053 - mse: 0.0053 - val_loss: 0.0030 - val_mse: 0.0030\n",
      "Epoch 32/50\n",
      "47/47 [==============================] - 1s 18ms/step - loss: 0.0054 - mse: 0.0054 - val_loss: 0.0031 - val_mse: 0.0031\n",
      "Epoch 33/50\n",
      "47/47 [==============================] - 1s 17ms/step - loss: 0.0050 - mse: 0.0050 - val_loss: 0.0037 - val_mse: 0.0037\n",
      "Epoch 34/50\n",
      "47/47 [==============================] - 1s 17ms/step - loss: 0.0053 - mse: 0.0053 - val_loss: 0.0033 - val_mse: 0.0033\n",
      "Epoch 35/50\n",
      "47/47 [==============================] - 1s 17ms/step - loss: 0.0050 - mse: 0.0050 - val_loss: 0.0031 - val_mse: 0.0031\n",
      "Epoch 36/50\n",
      "47/47 [==============================] - 1s 17ms/step - loss: 0.0047 - mse: 0.0047 - val_loss: 0.0033 - val_mse: 0.0033\n",
      "Epoch 37/50\n",
      "47/47 [==============================] - 1s 18ms/step - loss: 0.0049 - mse: 0.0049 - val_loss: 0.0041 - val_mse: 0.0041\n",
      "Epoch 38/50\n",
      "47/47 [==============================] - 1s 19ms/step - loss: 0.0051 - mse: 0.0051 - val_loss: 0.0027 - val_mse: 0.0027\n",
      "Epoch 39/50\n",
      "47/47 [==============================] - 1s 18ms/step - loss: 0.0048 - mse: 0.0048 - val_loss: 0.0033 - val_mse: 0.0033\n",
      "Epoch 40/50\n",
      "47/47 [==============================] - 1s 18ms/step - loss: 0.0054 - mse: 0.0054 - val_loss: 0.0043 - val_mse: 0.0043\n",
      "Epoch 41/50\n",
      "47/47 [==============================] - 1s 18ms/step - loss: 0.0051 - mse: 0.0051 - val_loss: 0.0038 - val_mse: 0.0038\n",
      "Epoch 42/50\n",
      "47/47 [==============================] - 1s 18ms/step - loss: 0.0051 - mse: 0.0051 - val_loss: 0.0032 - val_mse: 0.0032\n",
      "Epoch 43/50\n",
      "47/47 [==============================] - 1s 19ms/step - loss: 0.0047 - mse: 0.0047 - val_loss: 0.0037 - val_mse: 0.0037\n",
      "Epoch 44/50\n",
      "47/47 [==============================] - 1s 19ms/step - loss: 0.0047 - mse: 0.0047 - val_loss: 0.0031 - val_mse: 0.0031\n",
      "Epoch 45/50\n",
      "47/47 [==============================] - 1s 18ms/step - loss: 0.0044 - mse: 0.0044 - val_loss: 0.0032 - val_mse: 0.0032\n",
      "Epoch 46/50\n",
      "47/47 [==============================] - 1s 20ms/step - loss: 0.0048 - mse: 0.0048 - val_loss: 0.0036 - val_mse: 0.0036\n",
      "Epoch 47/50\n",
      "47/47 [==============================] - 1s 19ms/step - loss: 0.0051 - mse: 0.0051 - val_loss: 0.0032 - val_mse: 0.0032\n",
      "Epoch 48/50\n",
      "47/47 [==============================] - 1s 18ms/step - loss: 0.0047 - mse: 0.0047 - val_loss: 0.0026 - val_mse: 0.0026\n",
      "Epoch 49/50\n",
      "47/47 [==============================] - 1s 18ms/step - loss: 0.0053 - mse: 0.0053 - val_loss: 0.0034 - val_mse: 0.0034\n",
      "Epoch 50/50\n",
      "47/47 [==============================] - 1s 18ms/step - loss: 0.0051 - mse: 0.0051 - val_loss: 0.0028 - val_mse: 0.0028\n"
     ]
    }
   ],
   "source": [
    "best_seq2 = grid_seq2.best_estimator_\n",
    "es =EarlyStopping(monitor='val_loss', mode='min', patience=5)\n",
    "history_seq2 = best_seq2.fit(X_train, y_train, epochs=50, validation_split=0.2, callbacks=[es],\n",
    "                            verbose=0)"
   ]
  },
  {
   "cell_type": "code",
   "execution_count": 426,
   "id": "2910db03",
   "metadata": {},
   "outputs": [],
   "source": [
    "es =EarlyStopping(monitor='val_loss', mode='min', patience=50)"
   ]
  },
  {
   "cell_type": "code",
   "execution_count": 427,
   "id": "d49b2ad3",
   "metadata": {},
   "outputs": [
    {
     "name": "stdout",
     "output_type": "stream",
     "text": [
      "Epoch 1/50\n",
      "47/47 [==============================] - 2s 19ms/step - loss: 0.1597 - mae: 0.2116 - val_loss: 0.0065 - val_mae: 0.0621\n",
      "Epoch 2/50\n",
      "47/47 [==============================] - 1s 14ms/step - loss: 0.0146 - mae: 0.0899 - val_loss: 0.0121 - val_mae: 0.0896\n",
      "Epoch 3/50\n",
      "47/47 [==============================] - 1s 15ms/step - loss: 0.0114 - mae: 0.0780 - val_loss: 0.0087 - val_mae: 0.0747\n",
      "Epoch 4/50\n",
      "47/47 [==============================] - 1s 15ms/step - loss: 0.0095 - mae: 0.0716 - val_loss: 0.0049 - val_mae: 0.0527\n",
      "Epoch 5/50\n",
      "47/47 [==============================] - 1s 15ms/step - loss: 0.0083 - mae: 0.0655 - val_loss: 0.0050 - val_mae: 0.0540\n",
      "Epoch 6/50\n",
      "47/47 [==============================] - 1s 14ms/step - loss: 0.0077 - mae: 0.0634 - val_loss: 0.0040 - val_mae: 0.0475\n",
      "Epoch 7/50\n",
      "47/47 [==============================] - 1s 15ms/step - loss: 0.0075 - mae: 0.0632 - val_loss: 0.0041 - val_mae: 0.0502\n",
      "Epoch 8/50\n",
      "47/47 [==============================] - 1s 16ms/step - loss: 0.0069 - mae: 0.0592 - val_loss: 0.0037 - val_mae: 0.0454\n",
      "Epoch 9/50\n",
      "47/47 [==============================] - 1s 14ms/step - loss: 0.0080 - mae: 0.0639 - val_loss: 0.0053 - val_mae: 0.0547\n",
      "Epoch 10/50\n",
      "47/47 [==============================] - 1s 14ms/step - loss: 0.0062 - mae: 0.0555 - val_loss: 0.0069 - val_mae: 0.0686\n",
      "Epoch 11/50\n",
      "47/47 [==============================] - 1s 14ms/step - loss: 0.0079 - mae: 0.0651 - val_loss: 0.0039 - val_mae: 0.0461\n",
      "Epoch 12/50\n",
      "47/47 [==============================] - 1s 14ms/step - loss: 0.0062 - mae: 0.0562 - val_loss: 0.0043 - val_mae: 0.0510\n",
      "Epoch 13/50\n",
      "47/47 [==============================] - 1s 14ms/step - loss: 0.0071 - mae: 0.0599 - val_loss: 0.0032 - val_mae: 0.0428\n",
      "Epoch 14/50\n",
      "47/47 [==============================] - 1s 15ms/step - loss: 0.0062 - mae: 0.0562 - val_loss: 0.0049 - val_mae: 0.0563\n",
      "Epoch 15/50\n",
      "47/47 [==============================] - 1s 15ms/step - loss: 0.0056 - mae: 0.0528 - val_loss: 0.0047 - val_mae: 0.0523\n",
      "Epoch 16/50\n",
      "47/47 [==============================] - 1s 15ms/step - loss: 0.0056 - mae: 0.0526 - val_loss: 0.0044 - val_mae: 0.0542\n",
      "Epoch 17/50\n",
      "47/47 [==============================] - 1s 15ms/step - loss: 0.0054 - mae: 0.0510 - val_loss: 0.0035 - val_mae: 0.0456\n",
      "Epoch 18/50\n",
      "47/47 [==============================] - 1s 15ms/step - loss: 0.0056 - mae: 0.0526 - val_loss: 0.0038 - val_mae: 0.0476\n",
      "Epoch 19/50\n",
      "47/47 [==============================] - 1s 16ms/step - loss: 0.0055 - mae: 0.0518 - val_loss: 0.0036 - val_mae: 0.0481\n",
      "Epoch 20/50\n",
      "47/47 [==============================] - 1s 16ms/step - loss: 0.0057 - mae: 0.0542 - val_loss: 0.0028 - val_mae: 0.0389\n",
      "Epoch 21/50\n",
      "47/47 [==============================] - 1s 15ms/step - loss: 0.0052 - mae: 0.0505 - val_loss: 0.0033 - val_mae: 0.0450\n",
      "Epoch 22/50\n",
      "47/47 [==============================] - 1s 16ms/step - loss: 0.0055 - mae: 0.0518 - val_loss: 0.0035 - val_mae: 0.0467\n",
      "Epoch 23/50\n",
      "47/47 [==============================] - 1s 16ms/step - loss: 0.0060 - mae: 0.0545 - val_loss: 0.0041 - val_mae: 0.0495\n",
      "Epoch 24/50\n",
      "47/47 [==============================] - 1s 16ms/step - loss: 0.0055 - mae: 0.0520 - val_loss: 0.0043 - val_mae: 0.0522\n",
      "Epoch 25/50\n",
      "47/47 [==============================] - 1s 17ms/step - loss: 0.0050 - mae: 0.0487 - val_loss: 0.0037 - val_mae: 0.0472\n",
      "Epoch 26/50\n",
      "47/47 [==============================] - 1s 18ms/step - loss: 0.0050 - mae: 0.0485 - val_loss: 0.0040 - val_mae: 0.0506\n",
      "Epoch 27/50\n",
      "47/47 [==============================] - 1s 16ms/step - loss: 0.0050 - mae: 0.0492 - val_loss: 0.0035 - val_mae: 0.0440\n",
      "Epoch 28/50\n",
      "47/47 [==============================] - 1s 16ms/step - loss: 0.0053 - mae: 0.0509 - val_loss: 0.0038 - val_mae: 0.0485\n",
      "Epoch 29/50\n",
      "47/47 [==============================] - 1s 16ms/step - loss: 0.0046 - mae: 0.0463 - val_loss: 0.0032 - val_mae: 0.0428\n",
      "Epoch 30/50\n",
      "47/47 [==============================] - 1s 17ms/step - loss: 0.0052 - mae: 0.0504 - val_loss: 0.0038 - val_mae: 0.0465\n",
      "Epoch 31/50\n",
      "47/47 [==============================] - 1s 17ms/step - loss: 0.0055 - mae: 0.0522 - val_loss: 0.0038 - val_mae: 0.0483\n",
      "Epoch 32/50\n",
      "47/47 [==============================] - 1s 17ms/step - loss: 0.0049 - mae: 0.0480 - val_loss: 0.0032 - val_mae: 0.0422\n",
      "Epoch 33/50\n",
      "47/47 [==============================] - 1s 17ms/step - loss: 0.0050 - mae: 0.0482 - val_loss: 0.0033 - val_mae: 0.0432\n",
      "Epoch 34/50\n",
      "47/47 [==============================] - 1s 17ms/step - loss: 0.0049 - mae: 0.0483 - val_loss: 0.0039 - val_mae: 0.0491\n",
      "Epoch 35/50\n",
      "47/47 [==============================] - 1s 17ms/step - loss: 0.0044 - mae: 0.0450 - val_loss: 0.0029 - val_mae: 0.0414\n",
      "Epoch 36/50\n",
      "47/47 [==============================] - 1s 17ms/step - loss: 0.0052 - mae: 0.0504 - val_loss: 0.0034 - val_mae: 0.0446\n",
      "Epoch 37/50\n",
      "47/47 [==============================] - 1s 17ms/step - loss: 0.0053 - mae: 0.0506 - val_loss: 0.0032 - val_mae: 0.0433\n",
      "Epoch 38/50\n",
      "47/47 [==============================] - 1s 18ms/step - loss: 0.0048 - mae: 0.0483 - val_loss: 0.0040 - val_mae: 0.0479\n",
      "Epoch 39/50\n",
      "47/47 [==============================] - 1s 18ms/step - loss: 0.0056 - mae: 0.0520 - val_loss: 0.0032 - val_mae: 0.0439\n",
      "Epoch 40/50\n",
      "47/47 [==============================] - 1s 18ms/step - loss: 0.0045 - mae: 0.0452 - val_loss: 0.0032 - val_mae: 0.0440\n",
      "Epoch 41/50\n",
      "47/47 [==============================] - 1s 18ms/step - loss: 0.0045 - mae: 0.0452 - val_loss: 0.0047 - val_mae: 0.0545\n",
      "Epoch 42/50\n",
      "47/47 [==============================] - 1s 18ms/step - loss: 0.0045 - mae: 0.0454 - val_loss: 0.0037 - val_mae: 0.0478\n",
      "Epoch 43/50\n",
      "47/47 [==============================] - 1s 18ms/step - loss: 0.0047 - mae: 0.0475 - val_loss: 0.0030 - val_mae: 0.0409\n",
      "Epoch 44/50\n",
      "47/47 [==============================] - 1s 18ms/step - loss: 0.0050 - mae: 0.0486 - val_loss: 0.0034 - val_mae: 0.0450\n",
      "Epoch 45/50\n",
      "47/47 [==============================] - 1s 20ms/step - loss: 0.0045 - mae: 0.0452 - val_loss: 0.0028 - val_mae: 0.0394\n",
      "Epoch 46/50\n",
      "47/47 [==============================] - 1s 20ms/step - loss: 0.0044 - mae: 0.0446 - val_loss: 0.0032 - val_mae: 0.0429\n",
      "Epoch 47/50\n",
      "47/47 [==============================] - 1s 18ms/step - loss: 0.0044 - mae: 0.0449 - val_loss: 0.0029 - val_mae: 0.0391\n",
      "Epoch 48/50\n",
      "47/47 [==============================] - 1s 17ms/step - loss: 0.0043 - mae: 0.0435 - val_loss: 0.0027 - val_mae: 0.0398\n",
      "Epoch 49/50\n",
      "47/47 [==============================] - 1s 18ms/step - loss: 0.0044 - mae: 0.0450 - val_loss: 0.0029 - val_mae: 0.0402\n",
      "Epoch 50/50\n",
      "47/47 [==============================] - 1s 18ms/step - loss: 0.0044 - mae: 0.0450 - val_loss: 0.0033 - val_mae: 0.0443\n"
     ]
    }
   ],
   "source": [
    "history_seq2 = best_seq2.fit(X_train, y_train, epochs=50, validation_split=0.2, callbacks=[es],\n",
    "                            verbose=0)"
   ]
  },
  {
   "cell_type": "code",
   "execution_count": 597,
   "id": "f47dd3f0",
   "metadata": {},
   "outputs": [],
   "source": [
    "train_mae = history_seq2.history['mse']\n",
    "valid_mae = history_seq2.history['val_mse']"
   ]
  },
  {
   "cell_type": "code",
   "execution_count": 598,
   "id": "7e40e3ce",
   "metadata": {},
   "outputs": [
    {
     "data": {
      "text/plain": [
       "<matplotlib.legend.Legend at 0x1b4a24f6460>"
      ]
     },
     "execution_count": 598,
     "metadata": {},
     "output_type": "execute_result"
    },
    {
     "data": {
      "image/png": "[encoded data removed]",
      "text/plain": [
       "<Figure size 432x288 with 1 Axes>"
      ]
     },
     "metadata": {
      "needs_background": "light"
     },
     "output_type": "display_data"
    }
   ],
   "source": [
    "# train mse와 validation mse를 아래와 그립니다.\n",
    "plt.plot(train_mse, label='train mse')\n",
    "plt.plot(valid_mse, label='validation mse')\n",
    "plt.ylabel('mse')\n",
    "plt.xlabel('epoch')\n",
    "plt.legend(loc='upper center', bbox_to_anchor=(0.5,-0.15), fancybox=True, shadow=False, ncol=2)"
   ]
  },
  {
   "cell_type": "markdown",
   "id": "f2e15dec",
   "metadata": {},
   "source": [
    "## 예측평가 Seq2Seq(MSE, MAPE)"
   ]
  },
  {
   "cell_type": "code",
   "execution_count": 599,
   "id": "9f95b551",
   "metadata": {},
   "outputs": [],
   "source": [
    "pred_e1d1 = best_seq2.predict(X_test)"
   ]
  },
  {
   "cell_type": "code",
   "execution_count": 605,
   "id": "79d70444",
   "metadata": {},
   "outputs": [],
   "source": [
    "#다시 각 열을 원래 값으로 되돌립니다. inverse_transform을 사용합니다.\n",
    "for index, i in enumerate(Kepco.columns):\n",
    "    scaler = scalers['scaler_'+i]\n",
    "    pred_e1d1[:,:,index]=scaler.inverse_transform(pred_e1d1[:,:,index])\n",
    "    y_test[:,:,index] = scaler.inverse_transform(y_test[:,:,index])"
   ]
  },
  {
   "cell_type": "code",
   "execution_count": 607,
   "id": "dd7d8c85",
   "metadata": {},
   "outputs": [
    {
     "name": "stdout",
     "output_type": "stream",
     "text": [
      "시가\n",
      "Day 2018-08-29 00:00:00 :\n",
      "MSE: 1014598.5953758562\n",
      "Day 2018-08-30 00:00:00 :\n",
      "MSE: 1109587.605305182\n",
      "Day 2018-08-31 00:00:00 :\n",
      "MSE: 1318560.6005711758\n",
      "Day 2018-09-03 00:00:00 :\n",
      "MSE: 1457221.396646561\n",
      "Day 2018-09-04 00:00:00 :\n",
      "MSE: 1672656.7044893743\n",
      "\n",
      "\n",
      "고가\n",
      "Day 2018-08-29 00:00:00 :\n",
      "MSE: 1437373.8199863606\n",
      "Day 2018-08-30 00:00:00 :\n",
      "MSE: 1246996.6005040177\n",
      "Day 2018-08-31 00:00:00 :\n",
      "MSE: 1557766.2833129324\n",
      "Day 2018-09-03 00:00:00 :\n",
      "MSE: 1715973.5935228\n",
      "Day 2018-09-04 00:00:00 :\n",
      "MSE: 1942080.583757155\n",
      "\n",
      "\n",
      "저가\n",
      "Day 2018-08-29 00:00:00 :\n",
      "MSE: 1360582.1503667643\n",
      "Day 2018-08-30 00:00:00 :\n",
      "MSE: 1386549.689647104\n",
      "Day 2018-08-31 00:00:00 :\n",
      "MSE: 1536904.5502762157\n",
      "Day 2018-09-03 00:00:00 :\n",
      "MSE: 1713969.270412095\n",
      "Day 2018-09-04 00:00:00 :\n",
      "MSE: 1977742.7952253765\n",
      "\n",
      "\n",
      "종가\n",
      "Day 2018-08-29 00:00:00 :\n",
      "MSE: 1118456.7745093447\n",
      "Day 2018-08-30 00:00:00 :\n",
      "MSE: 1471439.243391999\n",
      "Day 2018-08-31 00:00:00 :\n",
      "MSE: 1597535.659629307\n",
      "Day 2018-09-03 00:00:00 :\n",
      "MSE: 1768795.546824661\n",
      "Day 2018-09-04 00:00:00 :\n",
      "MSE: 2069834.0866686972\n",
      "\n",
      "\n",
      "거래량\n",
      "Day 2018-08-29 00:00:00 :\n",
      "MSE: 7636107738850.317\n",
      "Day 2018-08-30 00:00:00 :\n",
      "MSE: 8326465356054.084\n",
      "Day 2018-08-31 00:00:00 :\n",
      "MSE: 8502018648741.523\n",
      "Day 2018-09-03 00:00:00 :\n",
      "MSE: 8565772140294.656\n",
      "Day 2018-09-04 00:00:00 :\n",
      "MSE: 8616524669376.627\n",
      "\n",
      "\n"
     ]
    }
   ],
   "source": [
    "# 각 열별 5일치 mse를 다음과 같이 도출했습니다.\n",
    "for index,i in enumerate(Kepco.columns):\n",
    "    print(i)\n",
    "    for j in range(0,5):\n",
    "        print('Day',test.index[j],':')\n",
    "        print('MSE:', mean_squared_error(y_test[:,j,index], pred_e1d1[:,j,index]))\n",
    "    print()\n",
    "    print()"
   ]
  },
  {
   "cell_type": "code",
   "execution_count": 608,
   "id": "d352d683",
   "metadata": {},
   "outputs": [
    {
     "name": "stdout",
     "output_type": "stream",
     "text": [
      "시가\n",
      "Day 2018-08-29 00:00:00 :\n",
      "MAPE: 0.03868985348483212\n",
      "Day 2018-08-30 00:00:00 :\n",
      "MAPE: 0.03560611439764246\n",
      "Day 2018-08-31 00:00:00 :\n",
      "MAPE: 0.033613429934764134\n",
      "Day 2018-09-03 00:00:00 :\n",
      "MAPE: 0.03487307096444512\n",
      "Day 2018-09-04 00:00:00 :\n",
      "MAPE: 0.03591207568681335\n",
      "\n",
      "\n",
      "고가\n",
      "Day 2018-08-29 00:00:00 :\n",
      "MAPE: 0.041131467790337224\n",
      "Day 2018-08-30 00:00:00 :\n",
      "MAPE: 0.0416946497553487\n",
      "Day 2018-08-31 00:00:00 :\n",
      "MAPE: 0.034252518181841655\n",
      "Day 2018-09-03 00:00:00 :\n",
      "MAPE: 0.03746616929906749\n",
      "Day 2018-09-04 00:00:00 :\n",
      "MAPE: 0.03874693328825041\n",
      "\n",
      "\n",
      "저가\n",
      "Day 2018-08-29 00:00:00 :\n",
      "MAPE: 0.04355989195118095\n",
      "Day 2018-08-30 00:00:00 :\n",
      "MAPE: 0.03903091793253991\n",
      "Day 2018-08-31 00:00:00 :\n",
      "MAPE: 0.03658793628272881\n",
      "Day 2018-09-03 00:00:00 :\n",
      "MAPE: 0.03752918316115233\n",
      "Day 2018-09-04 00:00:00 :\n",
      "MAPE: 0.039573719833979094\n",
      "\n",
      "\n",
      "종가\n",
      "Day 2018-08-29 00:00:00 :\n",
      "MAPE: 0.04336720957905262\n",
      "Day 2018-08-30 00:00:00 :\n",
      "MAPE: 0.032088761278879364\n",
      "Day 2018-08-31 00:00:00 :\n",
      "MAPE: 0.03705993965732694\n",
      "Day 2018-09-03 00:00:00 :\n",
      "MAPE: 0.03726513188841922\n",
      "Day 2018-09-04 00:00:00 :\n",
      "MAPE: 0.039206201519269936\n",
      "\n",
      "\n",
      "거래량\n",
      "Day 2018-08-29 00:00:00 :\n",
      "MAPE: 0.476839646216917\n",
      "Day 2018-08-30 00:00:00 :\n",
      "MAPE: 0.38676441093971725\n",
      "Day 2018-08-31 00:00:00 :\n",
      "MAPE: 0.45113381886285686\n",
      "Day 2018-09-03 00:00:00 :\n",
      "MAPE: 0.45571020288626257\n",
      "Day 2018-09-04 00:00:00 :\n",
      "MAPE: 0.46768706217376976\n",
      "\n",
      "\n"
     ]
    }
   ],
   "source": [
    "# 각 열별 5일치 MAPE를 다음과 같이 도출했습니다.\n",
    "for index,i in enumerate(Kepco.columns):\n",
    "    print(i)\n",
    "    for j in range(0,5):\n",
    "        print('Day',test.index[j],':')\n",
    "        print('MAPE:', mean_absolute_percentage_error(y_test[:,j-1,index], pred_e1d1[:,j-1,index]))\n",
    "    print()\n",
    "    print()"
   ]
  },
  {
   "cell_type": "markdown",
   "id": "af520391",
   "metadata": {},
   "source": [
    "## Predict the future 5 days with Attention Technique"
   ]
  },
  {
   "cell_type": "code",
   "execution_count": 609,
   "id": "8eeaa84b",
   "metadata": {},
   "outputs": [
    {
     "name": "stdout",
     "output_type": "stream",
     "text": [
      "{'n_neurons': 20}\n",
      "{'activation': 'relu'}\n"
     ]
    }
   ],
   "source": [
    "# 여기선 seq2에서 만들었던 train세트와 테스트 세트를 그대로 이용할 것입니다.\n",
    "# 뿐만 아니라 Grid Search를 따로 하지 않고 위에서 구한 LSTM의 최적 Hyperparameter와 \n",
    "# Seq2Seq2의 최적 Hyperparameter를 합칠 것입니다.\n",
    "print(grid_lstm.best_params_); print(grid_seq2.best_params_)"
   ]
  },
  {
   "cell_type": "code",
   "execution_count": 610,
   "id": "8bc4efdc",
   "metadata": {},
   "outputs": [],
   "source": [
    "n_past= 20\n",
    "n_features = train.shape[1]\n",
    "n_future = 5\n",
    "n_hidden = 20\n",
    "activation='relu'"
   ]
  },
  {
   "cell_type": "code",
   "execution_count": 628,
   "id": "f5c3b0f2",
   "metadata": {},
   "outputs": [],
   "source": [
    "X_train, y_train = split_series(series=train.values,n_past=n_past, n_future=n_future, target_col=list(range(len(Kepco.columns))))\n",
    "test_seq2 = pd.concat([train[-n_past:],test])\n",
    "X_test, y_test = split_series(series=test_seq2.values,n_past=n_past, n_future=n_future, target_col=list(range(len(Kepco.columns))))"
   ]
  },
  {
   "cell_type": "code",
   "execution_count": 614,
   "id": "ab668ddb",
   "metadata": {},
   "outputs": [],
   "source": [
    "# 여기는 Seq2Seq와 크게 다르지 않습니다.\n",
    "input_train = Input(shape=(n_past,n_features))\n",
    "output_train = Input(shape=(n_future, n_features))\n",
    "encoder_stack_h, encoder_last_h, encoder_last_c = LSTM(n_hidden, activation=activation,\n",
    "                                                      return_state=True, return_sequences=True)(input_train)\n",
    "decoder_input = RepeatVector(n_future)(encoder_last_h)\n",
    "decoder_stack_h = LSTM(n_hidden, activation=activation,return_state=False, return_sequences=True)(\n",
    "decoder_input, initial_state=[encoder_last_h, encoder_last_c])\n"
   ]
  },
  {
   "cell_type": "code",
   "execution_count": 615,
   "id": "1503447b",
   "metadata": {},
   "outputs": [],
   "source": [
    "# Attention Layer를 만듭니다. dot product Attention입니다.\n",
    "attention_score = dot([decoder_stack_h, encoder_stack_h], axes=[2,2])\n",
    "attention = Activation('softmax')(attention_score)\n",
    "context = dot([attention, encoder_stack_h], axes=[2,1])\n",
    "context = BatchNormalization(momentum=0.6)(context)"
   ]
  },
  {
   "cell_type": "code",
   "execution_count": 616,
   "id": "f788bed2",
   "metadata": {},
   "outputs": [],
   "source": [
    "# context vector와 decoder hidden value를 하나로 합칩니다.\n",
    "decoder_combined_context = concatenate([context, decoder_stack_h])"
   ]
  },
  {
   "cell_type": "code",
   "execution_count": 617,
   "id": "4efb219e",
   "metadata": {},
   "outputs": [],
   "source": [
    "out = TimeDistributed(Dense(n_features))(decoder_combined_context)\n",
    "model_att = Model(inputs=input_train, outputs=out)\n",
    "opt= Adam(learning_rate=0.01)\n",
    "es =EarlyStopping(monitor='val_loss', mode='min', patience=5)\n",
    "model_att.compile(loss='mse', optimizer=opt, metrics=['mse'])"
   ]
  },
  {
   "cell_type": "code",
   "execution_count": 26,
   "id": "d21ca004",
   "metadata": {},
   "outputs": [
    {
     "ename": "NameError",
     "evalue": "name 'model_att' is not defined",
     "output_type": "error",
     "traceback": [
      "\u001b[1;31m---------------------------------------------------------------------------\u001b[0m",
      "\u001b[1;31mNameError\u001b[0m                                 Traceback (most recent call last)",
      "\u001b[1;32m<ipython-input-26-6bcffeef2229>\u001b[0m in \u001b[0;36m<module>\u001b[1;34m\u001b[0m\n\u001b[0;32m      1\u001b[0m \u001b[1;31m# 여기선 시간이 여유있길래 epochs를 100으로 했습니다.\u001b[0m\u001b[1;33m\u001b[0m\u001b[1;33m\u001b[0m\u001b[1;33m\u001b[0m\u001b[0m\n\u001b[1;32m----> 2\u001b[1;33m history_att = model_att.fit(X_train, y_train, epochs=100, validation_split=0.2, callbacks=[es],\n\u001b[0m\u001b[0;32m      3\u001b[0m                             verbose=0)\n",
      "\u001b[1;31mNameError\u001b[0m: name 'model_att' is not defined"
     ]
    }
   ],
   "source": [
    "# 여기선 시간이 여유있길래 epochs를 100으로 했습니다.\n",
    "history_att = model_att.fit(X_train, y_train, epochs=100, validation_split=0.2, callbacks=[es],\n",
    "                            verbose=0)"
   ]
  },
  {
   "cell_type": "code",
   "execution_count": 619,
   "id": "ff584bc2",
   "metadata": {},
   "outputs": [],
   "source": [
    "train_mse = history_att.history['mse']\n",
    "valid_mse = history_att.history['val_mse']"
   ]
  },
  {
   "cell_type": "code",
   "execution_count": 620,
   "id": "8ff919b2",
   "metadata": {},
   "outputs": [
    {
     "data": {
      "text/plain": [
       "<matplotlib.legend.Legend at 0x1b4b91179d0>"
      ]
     },
     "execution_count": 620,
     "metadata": {},
     "output_type": "execute_result"
    },
    {
     "data": {
      "image/png": "[encoded data removed]",
      "text/plain": [
       "<Figure size 432x288 with 1 Axes>"
      ]
     },
     "metadata": {
      "needs_background": "light"
     },
     "output_type": "display_data"
    }
   ],
   "source": [
    "plt.plot(train_mse, label='train mse')\n",
    "plt.plot(valid_mse, label='validation mse')\n",
    "plt.ylabel('mse')\n",
    "plt.xlabel('epoch')\n",
    "plt.legend(loc='upper center', bbox_to_anchor=(0.5,-0.15), fancybox=True, shadow=False, ncol=2)"
   ]
  },
  {
   "cell_type": "markdown",
   "id": "d054d40e",
   "metadata": {},
   "source": [
    "## 예측 평가 Attention"
   ]
  },
  {
   "cell_type": "code",
   "execution_count": 630,
   "id": "52ced7f2",
   "metadata": {},
   "outputs": [],
   "source": [
    "# 예측값을 다음과 같이 구합니다.\n",
    "pred_att = model_att.predict(X_test)"
   ]
  },
  {
   "cell_type": "code",
   "execution_count": 631,
   "id": "f1ce25da",
   "metadata": {},
   "outputs": [],
   "source": [
    "for index, i in enumerate(Kepco.columns):\n",
    "    scaler = scalers['scaler_'+i]\n",
    "    pred_att[:,:,index]=scaler.inverse_transform(pred_att[:,:,index])\n",
    "    y_test[:,:,index] = scaler.inverse_transform(y_test[:,:,index])"
   ]
  },
  {
   "cell_type": "code",
   "execution_count": 640,
   "id": "5670237c",
   "metadata": {},
   "outputs": [
    {
     "name": "stdout",
     "output_type": "stream",
     "text": [
      "시가\n",
      "Day 2018-08-29 00:00:00 :\n",
      "MSE: 4.775843118042468e+23\n",
      "Day 2018-08-30 00:00:00 :\n",
      "MSE: 1.0966969243599675e+24\n",
      "Day 2018-08-31 00:00:00 :\n",
      "MSE: 1.515013889187949e+24\n",
      "Day 2018-09-03 00:00:00 :\n",
      "MSE: 1.660747115713376e+24\n",
      "Day 2018-09-04 00:00:00 :\n",
      "MSE: 1.2274430535367463e+25\n",
      "\n",
      "\n",
      "고가\n",
      "Day 2018-08-29 00:00:00 :\n",
      "MSE: 2.1449061441580907e+24\n",
      "Day 2018-08-30 00:00:00 :\n",
      "MSE: 3.0677531147532137e+24\n",
      "Day 2018-08-31 00:00:00 :\n",
      "MSE: 3.327261978656445e+24\n",
      "Day 2018-09-03 00:00:00 :\n",
      "MSE: 1.307145637983495e+24\n",
      "Day 2018-09-04 00:00:00 :\n",
      "MSE: 1.2777991682616737e+25\n",
      "\n",
      "\n",
      "저가\n",
      "Day 2018-08-29 00:00:00 :\n",
      "MSE: 7.157860632502564e+22\n",
      "Day 2018-08-30 00:00:00 :\n",
      "MSE: 8.958871848173006e+21\n",
      "Day 2018-08-31 00:00:00 :\n",
      "MSE: 4.352607133656043e+22\n",
      "Day 2018-09-03 00:00:00 :\n",
      "MSE: 1.088046470077083e+24\n",
      "Day 2018-09-04 00:00:00 :\n",
      "MSE: 3.55229844333992e+24\n",
      "\n",
      "\n",
      "종가\n",
      "Day 2018-08-29 00:00:00 :\n",
      "MSE: 1.305882230730776e+25\n",
      "Day 2018-08-30 00:00:00 :\n",
      "MSE: 1.3304382753956543e+25\n",
      "Day 2018-08-31 00:00:00 :\n",
      "MSE: 1.2413348658335142e+25\n",
      "Day 2018-09-03 00:00:00 :\n",
      "MSE: 7.340329594763955e+24\n",
      "Day 2018-09-04 00:00:00 :\n",
      "MSE: 2.740580139368205e+25\n",
      "\n",
      "\n",
      "거래량\n",
      "Day 2018-08-29 00:00:00 :\n",
      "MSE: 4.851895711102353e+30\n",
      "Day 2018-08-30 00:00:00 :\n",
      "MSE: 3.8920616541509347e+30\n",
      "Day 2018-08-31 00:00:00 :\n",
      "MSE: 3.316619083317852e+30\n",
      "Day 2018-09-03 00:00:00 :\n",
      "MSE: 5.421459190617733e+30\n",
      "Day 2018-09-04 00:00:00 :\n",
      "MSE: 2.0063731609776394e+30\n",
      "\n",
      "\n"
     ]
    }
   ],
   "source": [
    "# MSE와 MAPE 값 모두 다음과 같습니다.\n",
    "for index,i in enumerate(Kepco.columns):\n",
    "    print(i)\n",
    "    for j in range(0,5):\n",
    "        print('Day',test.index[j],':')\n",
    "        print('MSE:', mean_squared_error(y_test[:,j,index], pred_att[:,j,index]))\n",
    "    print()\n",
    "    print()"
   ]
  },
  {
   "cell_type": "code",
   "execution_count": 641,
   "id": "fa188a01",
   "metadata": {},
   "outputs": [
    {
     "name": "stdout",
     "output_type": "stream",
     "text": [
      "시가\n",
      "Day 2018-08-29 00:00:00 :\n",
      "MAPE: 1282125.3972323048\n",
      "Day 2018-08-30 00:00:00 :\n",
      "MAPE: 2038394.4076812472\n",
      "Day 2018-08-31 00:00:00 :\n",
      "MAPE: 2071816.1622863852\n",
      "Day 2018-09-03 00:00:00 :\n",
      "MAPE: 3194761.2853585333\n",
      "Day 2018-09-04 00:00:00 :\n",
      "MAPE: 5575509.697218975\n",
      "\n",
      "\n",
      "고가\n",
      "Day 2018-08-29 00:00:00 :\n",
      "MAPE: 2882177.6179958982\n",
      "Day 2018-08-30 00:00:00 :\n",
      "MAPE: 3528119.429440481\n",
      "Day 2018-08-31 00:00:00 :\n",
      "MAPE: 2860507.2516640853\n",
      "Day 2018-09-03 00:00:00 :\n",
      "MAPE: 2442800.7919132565\n",
      "Day 2018-09-04 00:00:00 :\n",
      "MAPE: 5576113.335637452\n",
      "\n",
      "\n",
      "저가\n",
      "Day 2018-08-29 00:00:00 :\n",
      "MAPE: 399484.9378938204\n",
      "Day 2018-08-30 00:00:00 :\n",
      "MAPE: 173392.051521373\n",
      "Day 2018-08-31 00:00:00 :\n",
      "MAPE: 511226.9741747114\n",
      "Day 2018-09-03 00:00:00 :\n",
      "MAPE: 2292093.203471671\n",
      "Day 2018-09-04 00:00:00 :\n",
      "MAPE: 3258202.337963168\n",
      "\n",
      "\n",
      "종가\n",
      "Day 2018-08-29 00:00:00 :\n",
      "MAPE: 7199008.310777615\n",
      "Day 2018-08-30 00:00:00 :\n",
      "MAPE: 7358987.249681924\n",
      "Day 2018-08-31 00:00:00 :\n",
      "MAPE: 6748084.702386416\n",
      "Day 2018-09-03 00:00:00 :\n",
      "MAPE: 6544161.71367205\n",
      "Day 2018-09-04 00:00:00 :\n",
      "MAPE: 8040456.4121718025\n",
      "\n",
      "\n",
      "거래량\n",
      "Day 2018-08-29 00:00:00 :\n",
      "MAPE: 24944810.693152715\n",
      "Day 2018-08-30 00:00:00 :\n",
      "MAPE: 22524646.729561094\n",
      "Day 2018-08-31 00:00:00 :\n",
      "MAPE: 23406490.385635465\n",
      "Day 2018-09-03 00:00:00 :\n",
      "MAPE: 20770736.737632647\n",
      "Day 2018-09-04 00:00:00 :\n",
      "MAPE: 10761823.937726626\n",
      "\n",
      "\n"
     ]
    }
   ],
   "source": [
    "for index,i in enumerate(Kepco.columns):\n",
    "    print(i)\n",
    "    for j in range(0,5):\n",
    "        print('Day',test.index[j],':')\n",
    "        print('MAPE:', mean_absolute_percentage_error(y_test[:,j,index], pred_att[:,j,index]))\n",
    "    print()\n",
    "    print()"
   ]
  },
  {
   "cell_type": "markdown",
   "id": "593f2c9b",
   "metadata": {},
   "source": [
    "## 감사합니다"
   ]
  }
 ],
 "metadata": {
  "kernelspec": {
   "display_name": "Python 3",
   "language": "python",
   "name": "python3"
  },
  "language_info": {
   "codemirror_mode": {
    "name": "ipython",
    "version": 3
   },
   "file_extension": ".py",
   "mimetype": "text/x-python",
   "name": "python",
   "nbconvert_exporter": "python",
   "pygments_lexer": "ipython3",
   "version": "3.8.8"
  }
 },
 "nbformat": 4,
 "nbformat_minor": 5
}
